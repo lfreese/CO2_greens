{
 "cells": [
  {
   "cell_type": "code",
   "execution_count": 1,
   "metadata": {},
   "outputs": [
    {
     "data": {
      "text/plain": [
       "<dask.config.set at 0x2abf7cf67970>"
      ]
     },
     "execution_count": 1,
     "metadata": {},
     "output_type": "execute_result"
    }
   ],
   "source": [
    "%matplotlib inline\n",
    "\n",
    "%matplotlib inline\n",
    "%load_ext autoreload\n",
    "%autoreload 2\n",
    "\n",
    "import xarray as xr\n",
    "import pandas as pd\n",
    "import matplotlib.pyplot as plt\n",
    "import numpy as np\n",
    "import cftime\n",
    "import dask\n",
    "import xarrayutils\n",
    "import cartopy.crs as ccrs\n",
    "from xmip.preprocessing import combined_preprocessing\n",
    "from xmip.preprocessing import replace_x_y_nominal_lat_lon\n",
    "from xmip.drift_removal import replace_time\n",
    "from xmip.postprocessing import concat_experiments\n",
    "import xmip.drift_removal as xm_dr\n",
    "import xmip as xm\n",
    "import xesmf as xe\n",
    "import datetime\n",
    "from dateutil.relativedelta import relativedelta\n",
    "import utils\n",
    "import scipy.signal as signal\n",
    "import cf_xarray as cfxr\n",
    "from datetime import timedelta\n",
    "\n",
    "\n",
    "dask.config.set(**{'array.slicing.split_large_chunks': True})\n"
   ]
  },
  {
   "cell_type": "markdown",
   "metadata": {},
   "source": [
    "### Notes:\n",
    "\n",
    "GFDL: A1B1 and esm pi-control start from year 0001\n",
    "\n",
    "UKESM1: A1B1 starts in 1850 and pi-control starts in 1960, move A1B1 to start in 1960\n",
    "\n",
    "MIROC: both start from 1850\n",
    "\n",
    "NORESM2: A1B1 from 0001 pi-control from 1600-- move A1B1 to 1600\n",
    "\n",
    "ACCESS: A1B1 and pi-control from 0101\n",
    "\n",
    "CANESM5_r1p1: A1B1 1850, pi-control 5201, move A1B1 to 5201\n",
    "\n",
    "CANESM5_r1p2: A1B1 1850, pi-control 5550, move A1B1 to 5550\n"
   ]
  },
  {
   "cell_type": "markdown",
   "metadata": {},
   "source": [
    "## Import data and calculate GF"
   ]
  },
  {
   "cell_type": "code",
   "execution_count": 2,
   "metadata": {},
   "outputs": [],
   "source": [
    "model_run_A1B1_dict = utils.model_run_A1_B1_dict\n",
    "model_run_control_dict = utils.model_run_picontrol_dict\n"
   ]
  },
  {
   "cell_type": "code",
   "execution_count": 3,
   "metadata": {},
   "outputs": [
    {
     "data": {
      "text/plain": [
       "{'GFDL_B1': 'GFDL-ESM2M_esm-bell-1000PgC_1861_2360.csv',\n",
       " 'NORESM2_B1': 'NorESM2-LM_esm-bell-1000PgC_1850-2049.csv',\n",
       " 'GFDL_A1': 'GFDL-ESM2M_esm-1pct-brch-1000PgC_1861_2360.csv',\n",
       " 'NORESM2_A1': 'NorESM2-LM_esm-1pct-brch-1000PgC_0066-0167.csv'}"
      ]
     },
     "execution_count": 3,
     "metadata": {},
     "output_type": "execute_result"
    }
   ],
   "source": [
    "model_run_A1B1_dict"
   ]
  },
  {
   "cell_type": "code",
   "execution_count": 4,
   "metadata": {},
   "outputs": [],
   "source": [
    "fg_co2_A1B1 = {}\n",
    "fg_co2_pictrl = {}\n",
    "nbp_A1B1 = {}\n",
    "nbp_pictrl = {}\n",
    "co2_A1B1 = {}\n",
    "co2_pictrl = {}\n",
    "areacello = {}\n",
    "areacella = {}"
   ]
  },
  {
   "cell_type": "code",
   "execution_count": 5,
   "metadata": {},
   "outputs": [
    {
     "name": "stdout",
     "output_type": "stream",
     "text": [
      "GFDL_B1\n",
      "load A1B1 run\n",
      "NORESM2_B1\n",
      "load A1B1 run\n",
      "GFDL_A1\n",
      "load A1B1 run\n",
      "NORESM2_A1\n",
      "load A1B1 run\n"
     ]
    }
   ],
   "source": [
    "for m in model_run_A1B1_dict.keys():\n",
    "    print(m)\n",
    "    print('load A1B1 run')\n",
    "\n",
    "    fg_co2_A1B1[m] = pd.read_csv(f'zecmip_data/fgco2_{model_run_A1B1_dict[m]}', names = ['year','val']) #kgC/m2/s\n",
    "\n",
    "    nbp_A1B1[m] = pd.read_csv(f'zecmip_data/nbp_{model_run_A1B1_dict[m]}', names = ['year','val']) #kgC/m2/s\n",
    "    co2_A1B1[m] = pd.read_csv(f'zecmip_data/co2_{model_run_A1B1_dict[m]}', names = ['year','val']) #kg\n",
    "    \n",
    "    "
   ]
  },
  {
   "cell_type": "code",
   "execution_count": 6,
   "metadata": {},
   "outputs": [],
   "source": [
    "for m in model_run_A1B1_dict.keys():\n",
    "    fg_co2_A1B1[m]['val']*=1e12\n",
    "    nbp_A1B1[m]['val']*=1e12"
   ]
  },
  {
   "cell_type": "code",
   "execution_count": 7,
   "metadata": {
    "tags": []
   },
   "outputs": [
    {
     "name": "stdout",
     "output_type": "stream",
     "text": [
      "NORESM2\n",
      "load pi control run\n",
      "GFDL\n",
      "load pi control run\n"
     ]
    }
   ],
   "source": [
    "for m in ['NORESM2','GFDL']:\n",
    "    print(m)\n",
    "    print('load pi control run')\n",
    "    fg_co2_pictrl[m] = xr.open_mfdataset(f'cmip6_data/fgco2_Omon_{model_run_control_dict[m]}', use_cftime=True, engine = 'netcdf4') #kg/m2/s \n",
    "    \n",
    "    nbp_pictrl[m] = xr.open_mfdataset(f'cmip6_data/nbp_Lmon_{model_run_control_dict[m]}',use_cftime=True, engine = 'netcdf4') #kgC/m2/s \n",
    "\n",
    "    if m == 'NORESM2' or m == 'GFDL':\n",
    "        co2_pictrl[m] = xr.open_mfdataset(f'cmip6_data/co2mass_Amon_{model_run_control_dict[m]}',use_cftime=True, engine = 'netcdf4') #kg\n",
    "    \n",
    "    areacello[m] = xr.open_mfdataset(f'cmip6_data/areacello_Ofx_{model_run_control_dict[m]}', use_cftime=True, engine = 'netcdf4')\n",
    "    areacella[m] = xr.open_mfdataset(f'cmip6_data/areacella_fx_{model_run_control_dict[m]}', use_cftime=True, engine = 'netcdf4')\n"
   ]
  },
  {
   "cell_type": "code",
   "execution_count": 8,
   "metadata": {},
   "outputs": [],
   "source": [
    " \n",
    "kgCO2_to_kgC = 1/3.67"
   ]
  },
  {
   "cell_type": "code",
   "execution_count": 9,
   "metadata": {},
   "outputs": [],
   "source": [
    "for m in co2_A1B1.keys():\n",
    "    co2_A1B1[m]['val']*=7.821e12 #convert to kg\n",
    "    co2_A1B1[m]['G_atm'] = co2_A1B1[m]['val'].diff() #kg/year\n",
    "    co2_A1B1[m]['G_atm']*=kgCO2_to_kgC #kgC/year"
   ]
  },
  {
   "cell_type": "code",
   "execution_count": 10,
   "metadata": {},
   "outputs": [],
   "source": [
    "for m in ['NORESM2', 'GFDL']: \n",
    "    seconds_per_yr = 60*60*24*365\n",
    "    co2_pictrl[m]['G_atm'] = co2_pictrl[m]['co2mass'].diff('time')/(co2_pictrl[m]['time'].diff('time').astype('float64')/(1e9*seconds_per_yr)) #convert from ns to year via 1e9ns/s x 60s/min x 60min/hr x 24hr/day x 365day/yr\n",
    "    co2_pictrl[m]['G_atm'] *= kgCO2_to_kgC\n",
    "    co2_pictrl[m]['G_atm'].attrs = {'units':'kgC'}"
   ]
  },
  {
   "cell_type": "markdown",
   "metadata": {},
   "source": [
    "## fix the times so that they line up according to the notes above\n",
    "m = 'NORESM2'\n",
    "nbp_pictrl[m]['time'] = nbp_pictrl[m]['time'] -timedelta(365*1599)\n",
    "fg_co2_pictrl[m]['time'] = fg_co2_pictrl[m]['time'] - timedelta(365*1599)\n",
    "co2_pictrl[m]['time'] = co2_pictrl[m]['time'] - timedelta(365*1599)\n",
    "co2_A1B1[m] *=1.5172413793 #currently saved as the vmr (see the attributes, has not been properly converted)\n",
    "co2_pictrl[m] *=1.5172413793 #currently saved as the vmr (see the attributes, has not been properly converted)\n",
    "\n",
    "\n",
    "m = 'UKESM1_r1'\n",
    "nbp_pictrl[m]['time'] = nbp_pictrl['UKESM1_r1']['time'] - timedelta(360*110)\n",
    "fg_co2_pictrl[m]['time'] = fg_co2_pictrl['UKESM1_r1']['time'] - timedelta(360*110)\n",
    "co2_pictrl[m]['time'] = co2_pictrl['UKESM1_r1']['time'] - timedelta(360*110)\n",
    "\n",
    "m = 'CANESM5_r1p2'\n",
    "nbp_pictrl[m]['time'] = nbp_pictrl['CANESM5_r1p2']['time']- timedelta(365*3700)\n",
    "fg_co2_pictrl[m]['time'] = fg_co2_pictrl['CANESM5_r1p2']['time']- timedelta(365*3700)\n",
    "\n",
    "m = 'CANESM5_r1p1'\n",
    "nbp_pictrl[m]['time'] = nbp_pictrl['CANESM5_r1p1']['time']- timedelta(365*3351)\n",
    "fg_co2_pictrl[m]['time'] = fg_co2_pictrl['CANESM5_r1p1']['time']- timedelta(365*3351)\n"
   ]
  },
  {
   "cell_type": "code",
   "execution_count": 11,
   "metadata": {},
   "outputs": [],
   "source": [
    "#define our output grid size\n",
    "\n",
    "ds_out = xr.Dataset(\n",
    "    {\n",
    "        \"lat\": ([\"lat\"], np.arange(-89.5, 90.5, 1.0)),\n",
    "        \"lon\": ([\"lon\"], np.arange(0.5, 360.5, 1)),\n",
    "        \"lat_b\": ([\"lat_b\"], np.arange(-90.,91.,1.0)),\n",
    "        \"lon_b\":([\"lon_b\"], np.arange(0, 361, 1.0))\n",
    "    }\n",
    ")\n",
    "A = utils.find_area(ds_out, R = 6.3781e6)\n",
    "\n",
    "#replace GFDL areacello with this-- areacello doesn't match up\n",
    "\n",
    "areacello['GFDL'] = A"
   ]
  },
  {
   "cell_type": "code",
   "execution_count": 12,
   "metadata": {
    "tags": []
   },
   "outputs": [
    {
     "name": "stdout",
     "output_type": "stream",
     "text": [
      "GFDL GFDL\n"
     ]
    },
    {
     "name": "stderr",
     "output_type": "stream",
     "text": [
      "/home/emfreese/anaconda3/envs/gchp/lib/python3.9/site-packages/dask/array/core.py:4697: PerformanceWarning: Increasing number of chunks by factor of 25\n",
      "  result = blockwise(\n",
      "/home/emfreese/anaconda3/envs/gchp/lib/python3.9/site-packages/dask/array/core.py:4697: PerformanceWarning: Increasing number of chunks by factor of 25\n",
      "  result = blockwise(\n",
      "/home/emfreese/anaconda3/envs/gchp/lib/python3.9/site-packages/dask/array/core.py:4697: PerformanceWarning: Increasing number of chunks by factor of 21\n",
      "  result = blockwise(\n"
     ]
    },
    {
     "name": "stdout",
     "output_type": "stream",
     "text": [
      "NORESM2 NORESM2\n"
     ]
    }
   ],
   "source": [
    "fg_co2 = {}\n",
    "nbp = {}\n",
    "\n",
    "for m1 in ['GFDL','NORESM2']:\n",
    "    m2 = m1\n",
    "    print(m1, m2)\n",
    "    if m2 == 'GFDL':\n",
    "        fg_co2_pictrl[m1]['fgco2'] = fg_co2_pictrl[m1]['fgco2']*seconds_per_yr*areacello[m2]\n",
    "    else:\n",
    "        fg_co2_pictrl[m1]['fgco2'] = fg_co2_pictrl[m1]['fgco2']*seconds_per_yr*areacello[m2]['areacello']\n",
    "    nbp_pictrl[m1]['nbp'] = nbp_pictrl[m1]['nbp']*seconds_per_yr*areacella[m2]['areacella']"
   ]
  },
  {
   "cell_type": "code",
   "execution_count": 13,
   "metadata": {},
   "outputs": [],
   "source": [
    "#total sinks\n",
    "nbp_tot = {}\n",
    "fg_co2_tot = {}\n",
    "for m in nbp_pictrl.keys():\n",
    "    if 'lat' in list(fg_co2_pictrl[m]['fgco2'].dims):\n",
    "        nbp_tot[m] = nbp_pictrl[m]['nbp'].sum(dim = ['lat','lon'])\n",
    "        fg_co2_tot[m] = fg_co2_pictrl[m]['fgco2'].sum(dim = ['lat','lon'])\n",
    "    elif 'i' in list(fg_co2_pictrl[m]['fgco2'].dims):\n",
    "        nbp_tot[m] = nbp_pictrl[m]['nbp'].sum(dim = ['lat','lon'])\n",
    "        fg_co2_tot[m] = fg_co2_pictrl[m]['fgco2'].sum(dim = ['i','j'])\n",
    "    elif 'x' in list(fg_co2_pictrl[m]['fgco2'].dims):\n",
    "        nbp_tot[m] = nbp_pictrl[m]['nbp'].sum(dim = ['lat','lon'])\n",
    "        fg_co2_tot[m] = fg_co2_pictrl[m]['fgco2'].sum(dim = ['x','y'])"
   ]
  },
  {
   "cell_type": "code",
   "execution_count": 14,
   "metadata": {},
   "outputs": [
    {
     "name": "stdout",
     "output_type": "stream",
     "text": [
      "NORESM2\n",
      "GFDL\n"
     ]
    }
   ],
   "source": [
    "#fix the times to all be the same, weight by month and take the mean\n",
    "\n",
    "for m in nbp_tot.keys():  \n",
    "    print(m)\n",
    "    times = nbp_tot[m].time.get_index('time')\n",
    "    weights = times.shift(-1, 'MS') - times.shift(1, 'MS')\n",
    "    weights = xr.DataArray(weights, [('time', nbp_tot[m]['time'].values)]).astype('float')\n",
    "    nbp_tot[m] =  (nbp_tot[m] * weights).groupby('time.year').sum('time')/weights.groupby('time.year').sum('time')\n",
    "    fg_co2_tot[m] =  (fg_co2_tot[m] * weights).groupby('time.year').sum('time')/weights.groupby('time.year').sum('time')"
   ]
  },
  {
   "cell_type": "code",
   "execution_count": 15,
   "metadata": {},
   "outputs": [],
   "source": [
    "for m in co2_pictrl.keys():    \n",
    "    times = co2_pictrl[m].time.get_index('time')\n",
    "    weights = times.shift(-1, 'MS') - times.shift(1, 'MS')\n",
    "    weights = xr.DataArray(weights, [('time', co2_pictrl[m]['time'].values)]).astype('float')\n",
    "    co2_pictrl[m] =  (co2_pictrl[m] * weights).groupby('time.year').sum('time')/weights.groupby('time.year').sum('time')"
   ]
  },
  {
   "cell_type": "code",
   "execution_count": 16,
   "metadata": {},
   "outputs": [],
   "source": [
    "fg_co2_A1B1['NORESM2_A1']['year'] = fg_co2_A1B1['NORESM2_B1']['year']\n",
    "co2_A1B1['NORESM2_A1']['year'] = co2_A1B1['NORESM2_B1']['year']\n",
    "nbp_A1B1['NORESM2_A1']['year'] = nbp_A1B1['NORESM2_B1']['year']"
   ]
  },
  {
   "cell_type": "code",
   "execution_count": 17,
   "metadata": {},
   "outputs": [
    {
     "name": "stdout",
     "output_type": "stream",
     "text": [
      "GFDL_B1 GFDL\n",
      "NORESM2_B1 NORESM2\n",
      "GFDL_A1 GFDL\n",
      "NORESM2_A1 NORESM2\n"
     ]
    }
   ],
   "source": [
    "for m1 in model_run_A1B1_dict.keys():\n",
    "    if m1 == 'GFDL_B1' or m1 == 'GFDL_A1':\n",
    "        m2 = 'GFDL'\n",
    "    elif m1 == 'NORESM2_B1' or m1 == 'NORESM2_A1':\n",
    "        m2 = 'NORESM2'\n",
    "    print(m1, m2)\n",
    "    fg_co2[m1] = xr.Dataset(fg_co2_A1B1[m1].set_index('year'))['val'] - fg_co2_tot[m2]\n",
    "    nbp[m1] = xr.Dataset(nbp_A1B1[m1].set_index('year'))['val'] - nbp_tot[m2]\n",
    "    "
   ]
  },
  {
   "cell_type": "code",
   "execution_count": 18,
   "metadata": {},
   "outputs": [
    {
     "name": "stdout",
     "output_type": "stream",
     "text": [
      "GFDL_B1 GFDL\n",
      "NORESM2_B1 NORESM2\n",
      "GFDL_A1 GFDL\n",
      "NORESM2_A1 NORESM2\n"
     ]
    }
   ],
   "source": [
    "co2_dif = {}\n",
    "for m1 in co2_A1B1.keys():\n",
    "    if m1 == 'GFDL_B1' or m1 == 'GFDL_A1':\n",
    "        m2 = 'GFDL'\n",
    "    elif m1 == 'NORESM2_B1' or m1 == 'NORESM2_A1':\n",
    "        m2 = 'NORESM2'\n",
    "    print(m1, m2)\n",
    "    co2_dif[m1] = xr.Dataset(co2_A1B1[m1].set_index('year'))['G_atm'] - co2_pictrl[m2]['G_atm'] #kg/yr"
   ]
  },
  {
   "cell_type": "code",
   "execution_count": 19,
   "metadata": {},
   "outputs": [],
   "source": [
    "emis_sinks = {}\n",
    "for m1 in fg_co2.keys():\n",
    "    emis_sinks[m1] = fg_co2[m1] + nbp[m1]"
   ]
  },
  {
   "cell_type": "code",
   "execution_count": 20,
   "metadata": {},
   "outputs": [],
   "source": [
    "G_atm = {}\n",
    "for m1 in fg_co2.keys():\n",
    "    G_atm[m1] = co2_dif[m1]"
   ]
  },
  {
   "cell_type": "code",
   "execution_count": 21,
   "metadata": {},
   "outputs": [],
   "source": [
    "for m in emis_sinks.keys():\n",
    "    emis_sinks[m]['year'] = np.arange(0, len(emis_sinks[m]['year']))\n",
    "    #co2_pictrl[m] = np.arange(0, len(co2_pictrl[m]['year'])) ## GFDL\n",
    "for m in G_atm.keys():\n",
    "    G_atm[m]['year'] = np.arange(0, len(G_atm[m]['year']))"
   ]
  },
  {
   "cell_type": "code",
   "execution_count": 22,
   "metadata": {},
   "outputs": [],
   "source": [
    "def diff_lists(list1, list2):\n",
    "    return list(set(list1).symmetric_difference(set(list2)))  # or return list(set(list1) ^ set(list2))\n",
    "\n",
    "emis_co2 = {}\n",
    "for m in G_atm.keys():\n",
    "        emis_co2[m] = G_atm[m] + emis_sinks[m]\n",
    "\n",
    "for m in diff_lists(emis_sinks.keys(), G_atm.keys()):\n",
    "        emis_co2[m] = G_atm['UKESM1_r1'] + emis_sinks[m] #use UKESM1_r1 co2 mass bc these runs don't have their own\n",
    "    "
   ]
  },
  {
   "cell_type": "code",
   "execution_count": 23,
   "metadata": {},
   "outputs": [],
   "source": [
    "emis_co2_GtC = {}\n",
    "kg_to_Gt = 1e-12\n",
    "\n",
    "for m in emis_co2.keys():\n",
    "    emis_co2_GtC[m] = emis_co2[m]*kg_to_Gt\n",
    "    "
   ]
  },
  {
   "cell_type": "code",
   "execution_count": 25,
   "metadata": {
    "tags": []
   },
   "outputs": [],
   "source": [
    "emis_co2_GtC_ds = xr.concat([emis_co2_GtC[m] for m in emis_co2_GtC.keys()], pd.Index([m for m in emis_co2_GtC.keys()], name='model'), coords='minimal')"
   ]
  },
  {
   "cell_type": "markdown",
   "metadata": {},
   "source": [
    "# Save out CO2 emissions"
   ]
  },
  {
   "cell_type": "code",
   "execution_count": 99,
   "metadata": {},
   "outputs": [],
   "source": [
    "emis_co2_GtC_ds.to_netcdf('A1B11000gtc_emis_profile_full.nc4')\n"
   ]
  },
  {
   "cell_type": "markdown",
   "metadata": {},
   "source": [
    "## Plots"
   ]
  },
  {
   "cell_type": "code",
   "execution_count": 26,
   "metadata": {},
   "outputs": [
    {
     "data": {
      "text/plain": [
       "[<matplotlib.lines.Line2D at 0x2ada73c1b910>]"
      ]
     },
     "execution_count": 26,
     "metadata": {},
     "output_type": "execute_result"
    },
    {
     "data": {
      "image/png": "[encoded data removed]",
      "text/plain": [
       "<Figure size 432x288 with 1 Axes>"
      ]
     },
     "metadata": {
      "needs_background": "light"
     },
     "output_type": "display_data"
    }
   ],
   "source": [
    "plt.plot(fg_co2_A1B1['GFDL_B1']['val'])"
   ]
  },
  {
   "cell_type": "code",
   "execution_count": 27,
   "metadata": {},
   "outputs": [
    {
     "data": {
      "text/plain": [
       "[<matplotlib.lines.Line2D at 0x2ada740e0940>]"
      ]
     },
     "execution_count": 27,
     "metadata": {},
     "output_type": "execute_result"
    },
    {
     "data": {
      "image/png": "[encoded data removed]",
      "text/plain": [
       "<Figure size 432x288 with 1 Axes>"
      ]
     },
     "metadata": {
      "needs_background": "light"
     },
     "output_type": "display_data"
    }
   ],
   "source": [
    "plt.plot(nbp_A1B1['GFDL_B1']['val'])"
   ]
  },
  {
   "cell_type": "code",
   "execution_count": 28,
   "metadata": {},
   "outputs": [
    {
     "data": {
      "text/plain": [
       "[<matplotlib.lines.Line2D at 0x2ada77782a90>]"
      ]
     },
     "execution_count": 28,
     "metadata": {},
     "output_type": "execute_result"
    },
    {
     "data": {
      "image/png": "[encoded data removed]",
      "text/plain": [
       "<Figure size 432x288 with 1 Axes>"
      ]
     },
     "metadata": {
      "needs_background": "light"
     },
     "output_type": "display_data"
    }
   ],
   "source": [
    "plt.plot(fg_co2_A1B1['GFDL_B1']['val']+nbp_A1B1['GFDL_B1']['val'])\n"
   ]
  },
  {
   "cell_type": "code",
   "execution_count": 41,
   "metadata": {},
   "outputs": [
    {
     "data": {
      "text/plain": [
       "[<matplotlib.lines.Line2D at 0x2ada73139eb0>]"
      ]
     },
     "execution_count": 41,
     "metadata": {},
     "output_type": "execute_result"
    },
    {
     "data": {
      "image/png": "[encoded data removed]",
      "text/plain": [
       "<Figure size 432x288 with 1 Axes>"
      ]
     },
     "metadata": {
      "needs_background": "light"
     },
     "output_type": "display_data"
    }
   ],
   "source": [
    "plt.plot((co2_A1B1['GFDL_B1']['val']*7.8e12).diff()*kgCO2_to_kgC)"
   ]
  },
  {
   "cell_type": "code",
   "execution_count": 158,
   "metadata": {},
   "outputs": [
    {
     "data": {
      "text/plain": [
       "-3.310932697433243e+31"
      ]
     },
     "execution_count": 158,
     "metadata": {},
     "output_type": "execute_result"
    }
   ],
   "source": [
    "(co2_A1B1['GFDL_B1']['val'][0]-co2_A1B1['GFDL_B1']['val'][1])*7821e9"
   ]
  },
  {
   "cell_type": "code",
   "execution_count": 150,
   "metadata": {},
   "outputs": [],
   "source": [
    "test = pd.read_csv('zecmip_data/co2_GFDL-ESM2M_esm-1pct-brch-1000PgC_1861_2360.csv', names = ['year','val'])"
   ]
  },
  {
   "cell_type": "code",
   "execution_count": 160,
   "metadata": {},
   "outputs": [
    {
     "data": {
      "text/plain": [
       "-2.2316820390542172e+16"
      ]
     },
     "execution_count": 160,
     "metadata": {},
     "output_type": "execute_result"
    }
   ],
   "source": [
    "(test.loc[0]['val']-test.loc[1]['val'])*7821e12"
   ]
  },
  {
   "cell_type": "code",
   "execution_count": 161,
   "metadata": {},
   "outputs": [
    {
     "data": {
      "text/plain": [
       "[<matplotlib.lines.Line2D at 0x2ad5cb921fa0>]"
      ]
     },
     "execution_count": 161,
     "metadata": {},
     "output_type": "execute_result"
    },
    {
     "data": {
      "image/png": "[encoded data removed]",
      "text/plain": [
       "<Figure size 432x288 with 1 Axes>"
      ]
     },
     "metadata": {
      "needs_background": "light"
     },
     "output_type": "display_data"
    }
   ],
   "source": [
    "plt.plot(fg_co2_A1B1['GFDL_B1']['val']*1e12+nbp_A1B1['GFDL_B1']['val']*1e12 + co2_A1B1['GFDL_B1']['G_atm'])"
   ]
  },
  {
   "cell_type": "code",
   "execution_count": 26,
   "metadata": {},
   "outputs": [
    {
     "data": {
      "image/png": "[encoded data removed]",
      "text/plain": [
       "<Figure size 432x288 with 1 Axes>"
      ]
     },
     "metadata": {
      "needs_background": "light"
     },
     "output_type": "display_data"
    }
   ],
   "source": [
    "for m in emis_co2_GtC_ds.model.values:\n",
    "    plt.plot(emis_co2_GtC_ds.sel(model = m), label = m)\n",
    "    plt.legend()"
   ]
  },
  {
   "cell_type": "markdown",
   "metadata": {},
   "source": [
    "# Convolution test"
   ]
  },
  {
   "cell_type": "markdown",
   "metadata": {},
   "source": [
    "## Import G"
   ]
  },
  {
   "cell_type": "code",
   "execution_count": 27,
   "metadata": {},
   "outputs": [],
   "source": [
    "G_ds = xr.open_dataset('Outputs/G_ds.nc4')['__xarray_dataarray_variable__']\n",
    "G_mean_ds = xr.open_dataset('Outputs/G_mean_ds.nc4')['__xarray_dataarray_variable__']\n",
    "\n",
    "G_CDR_ds = xr.open_dataset('Outputs/G_cdr_ds.nc4')['__xarray_dataarray_variable__']\n",
    "G_CDR_mean_ds = xr.open_dataset('Outputs/G_cdr_mean_ds.nc4')['__xarray_dataarray_variable__']"
   ]
  },
  {
   "cell_type": "code",
   "execution_count": 28,
   "metadata": {},
   "outputs": [],
   "source": [
    "G_ds = xr.concat([G_ds, -G_CDR_ds], pd.Index(['pulse','cdr'], name = 'pulse_type'))\n",
    "G_mean_ds = xr.concat([G_mean_ds, -G_CDR_mean_ds], pd.Index(['pulse','cdr'], name = 'pulse_type'))"
   ]
  },
  {
   "cell_type": "code",
   "execution_count": 29,
   "metadata": {},
   "outputs": [],
   "source": [
    "G_ds.name = 'G[tas]'\n",
    "G_mean_ds.name = 'G[tas]'"
   ]
  },
  {
   "cell_type": "code",
   "execution_count": 30,
   "metadata": {},
   "outputs": [],
   "source": [
    "G_ds = G_ds.rename({'year':'s'})\n",
    "G_mean_ds = G_mean_ds.rename({'year':'s'})"
   ]
  },
  {
   "cell_type": "code",
   "execution_count": 31,
   "metadata": {},
   "outputs": [],
   "source": [
    "#define our output grid size\n",
    "\n",
    "ds_out = xr.Dataset(\n",
    "    {\n",
    "        \"lat\": ([\"lat\"], np.arange(-89.5, 90.5, 1.0)),\n",
    "        \"lon\": ([\"lon\"], np.arange(0, 360, 1)),\n",
    "        \"lat_b\": ([\"lat_b\"], np.arange(-90.,91.,1.0)),\n",
    "        \"lon_b\":([\"lon_b\"], np.arange(.5, 361.5, 1.0))\n",
    "    }\n",
    ")"
   ]
  },
  {
   "cell_type": "code",
   "execution_count": 32,
   "metadata": {},
   "outputs": [],
   "source": [
    "A = utils.find_area(ds_out)"
   ]
  },
  {
   "cell_type": "markdown",
   "metadata": {},
   "source": [
    "## Convolve"
   ]
  },
  {
   "cell_type": "code",
   "execution_count": 42,
   "metadata": {},
   "outputs": [],
   "source": [
    "x = np.array(GF.sel(model = m2, pulse_type = t).dropna(dim = 's'))"
   ]
  },
  {
   "cell_type": "code",
   "execution_count": 43,
   "metadata": {},
   "outputs": [],
   "source": [
    "y = np.array(emis_co2_GtC_ds.sel(model = m1).dropna(dim = 'year'))"
   ]
  },
  {
   "cell_type": "code",
   "execution_count": 44,
   "metadata": {},
   "outputs": [
    {
     "data": {
      "text/plain": [
       "array([ 4.06102491e-04,  1.59307750e-03,  2.43804938e-03,  2.71419126e-03,\n",
       "        3.33002133e-03,  4.89951212e-03,  6.33243870e-03,  5.90766879e-03,\n",
       "        8.07965135e-03,  1.11242289e-02,  1.23365346e-02,  1.66370884e-02,\n",
       "        2.30830508e-02,  2.65338790e-02,  2.89213701e-02,  3.55232572e-02,\n",
       "        4.13109310e-02,  4.81294935e-02,  5.52525709e-02,  6.24463069e-02,\n",
       "        7.43163188e-02,  8.37913319e-02,  9.34535353e-02,  1.08150971e-01,\n",
       "        1.19361912e-01,  1.31597025e-01,  1.46970498e-01,  1.63713658e-01,\n",
       "        1.79474177e-01,  1.99310058e-01,  2.21470338e-01,  2.42540788e-01,\n",
       "        2.66518990e-01,  2.84543491e-01,  3.07374881e-01,  3.35604195e-01,\n",
       "        3.54816485e-01,  3.78506489e-01,  4.06271017e-01,  4.30171688e-01,\n",
       "        4.58296647e-01,  4.84950345e-01,  5.11484501e-01,  5.31705894e-01,\n",
       "        5.55904952e-01,  5.77722590e-01,  5.92893892e-01,  6.11610275e-01,\n",
       "        6.30515432e-01,  6.46215600e-01,  6.59908420e-01,  6.73672627e-01,\n",
       "        6.78733147e-01,  6.76532633e-01,  6.88365294e-01,  6.96620937e-01,\n",
       "        6.90503336e-01,  6.89235277e-01,  6.87059486e-01,  6.79778785e-01,\n",
       "        6.73498651e-01,  6.55532035e-01,  6.41098314e-01,  6.32469425e-01,\n",
       "        6.09767913e-01,  5.88848608e-01,  5.73342222e-01,  5.53923755e-01,\n",
       "        5.33061460e-01,  5.12549812e-01,  4.95611072e-01,  4.66609185e-01,\n",
       "        4.37697106e-01,  4.25712275e-01,  4.06215551e-01,  3.74748361e-01,\n",
       "        3.50821397e-01,  3.36418455e-01,  3.22396639e-01,  3.04035391e-01,\n",
       "        2.88998844e-01,  2.69447040e-01,  2.61536114e-01,  2.53683754e-01,\n",
       "        2.39722618e-01,  2.41464525e-01,  2.33225336e-01,  2.28765412e-01,\n",
       "        2.37486386e-01,  2.35298760e-01,  2.32658041e-01,  2.32562806e-01,\n",
       "        2.54590335e-01,  2.67114018e-01,  2.68207708e-01,  2.82117140e-01,\n",
       "        2.92632996e-01,  3.09370260e-01,  3.27232968e-01,  3.44589233e-01,\n",
       "        3.61312438e-01,  3.80420785e-01,  4.01948781e-01,  4.15211726e-01,\n",
       "        4.27661986e-01,  4.48595011e-01,  4.63674332e-01,  4.80889479e-01,\n",
       "        5.02725802e-01,  5.09904268e-01,  5.16096329e-01,  5.41202640e-01,\n",
       "        5.50880695e-01,  5.51839783e-01,  5.52700265e-01,  5.55636345e-01,\n",
       "        5.69852490e-01,  5.67121542e-01,  5.58516893e-01,  5.60531242e-01,\n",
       "        5.57533872e-01,  5.52509415e-01,  5.37554447e-01,  5.22918248e-01,\n",
       "        5.18773602e-01,  4.93655861e-01,  4.80071056e-01,  4.79941609e-01,\n",
       "        4.58863628e-01,  4.25904514e-01,  4.18249066e-01,  4.10129712e-01,\n",
       "        3.84934726e-01,  3.54571267e-01,  3.26106488e-01,  3.21772737e-01,\n",
       "        2.93304206e-01,  2.66914833e-01,  2.59830776e-01,  2.47346248e-01,\n",
       "        2.13324053e-01,  1.96009375e-01,  1.87511563e-01,  1.61990331e-01,\n",
       "        1.39755292e-01,  1.31986125e-01,  1.30617174e-01,  1.08496177e-01,\n",
       "        8.48834498e-02,  7.82407681e-02,  7.04983182e-02,  5.33247358e-02,\n",
       "        4.78222289e-02,  4.37426481e-02,  3.47632533e-02,  2.39445200e-02,\n",
       "        2.63278305e-02,  1.72960105e-02,  6.18411884e-03,  6.39838295e-03,\n",
       "        1.00881478e-02,  6.39088605e-03, -5.67526972e-03, -1.48902237e-02,\n",
       "       -8.37347412e-04,  6.22403262e-05, -1.27877717e-02, -1.03055940e-02,\n",
       "       -2.18639408e-02, -1.54378238e-02, -4.87679107e-03, -5.34680058e-03,\n",
       "       -6.30132527e-03, -1.59204994e-02, -2.27833475e-02, -1.06852809e-02,\n",
       "       -8.86743499e-03, -1.27636961e-02, -1.67586114e-02, -5.29234283e-03,\n",
       "       -4.98497465e-03, -1.62965118e-02, -1.71224767e-02, -3.22663463e-03,\n",
       "       -6.96444305e-03, -1.21587983e-02, -8.01133242e-03, -9.83877978e-03,\n",
       "       -3.93030160e-03, -1.03926690e-02, -1.24406812e-02, -7.73557908e-03,\n",
       "        1.30169588e-03, -2.38664358e-02, -1.72312489e-02, -1.68615815e-03,\n",
       "       -4.58226173e-03, -1.42916368e-02,  3.67353086e-04,  4.60060520e-03,\n",
       "       -1.37231459e-02, -2.25510607e-02, -5.92645618e-04, -3.03551127e-03,\n",
       "       -1.51552907e-02, -2.45177890e-03, -4.30300409e-03, -4.38926006e-03,\n",
       "       -8.53820028e-03,  2.97468365e-03,  2.08844208e-03, -8.73336459e-03,\n",
       "       -1.48055665e-02, -6.15663747e-03,  1.06584784e-03, -2.06343036e-03,\n",
       "       -6.36938864e-03, -2.63740214e-04, -7.11942701e-03, -1.19874445e-02,\n",
       "        4.00203570e-04, -2.72753420e-03, -8.27487094e-03, -5.44627255e-04,\n",
       "       -5.27245703e-04, -1.02518043e-02, -1.33529497e-03, -6.82239981e-03,\n",
       "       -4.93984218e-03, -1.10505138e-03,  3.29410190e-03, -4.30325193e-03,\n",
       "       -8.92085561e-03,  6.49231171e-04, -2.72457367e-03, -4.07397478e-03,\n",
       "       -3.96293536e-03, -2.31131636e-03, -8.08047678e-03, -6.02240988e-03,\n",
       "        8.60910410e-04, -2.66901112e-03, -6.11830204e-04, -2.99354680e-03,\n",
       "       -1.12497586e-02, -1.84091920e-03, -5.95249882e-03, -3.22304259e-03,\n",
       "        1.74450205e-03, -3.29752428e-03, -4.91302208e-03, -7.93979317e-03,\n",
       "        1.67035223e-03, -5.17066140e-03, -7.82751671e-03,  3.27661348e-05,\n",
       "       -2.41129256e-03, -7.20278711e-03, -2.51159972e-03,  3.10583439e-03,\n",
       "       -4.55844654e-03, -6.55013751e-03, -2.39508011e-03,  1.33625004e-03,\n",
       "       -1.62964294e-03, -2.98560805e-03,  9.41990113e-04, -6.65418927e-04,\n",
       "       -3.20645636e-03, -2.82420332e-03, -2.37844021e-03, -1.13631558e-03,\n",
       "       -5.92347944e-03,  4.36322686e-03,  7.33936050e-03, -4.45412483e-03,\n",
       "       -3.74839628e-03,  7.90897541e-04,  4.88400516e-03, -2.98109883e-03,\n",
       "       -4.32676653e-03,  2.23942404e-03,  1.86510013e-03, -2.31129807e-03,\n",
       "        9.08570007e-04,  2.94827630e-03,  4.11244463e-05, -1.74422808e-03,\n",
       "       -4.59279083e-04,  1.06314124e-03, -4.02724934e-04, -1.33837689e-03,\n",
       "        1.06582057e-03,  1.87743004e-03,  1.54177287e-05, -6.21218660e-04,\n",
       "       -7.38044785e-05,  7.35940133e-05])"
      ]
     },
     "execution_count": 44,
     "metadata": {},
     "output_type": "execute_result"
    }
   ],
   "source": [
    "signal.convolve(x,y,'full')"
   ]
  },
  {
   "cell_type": "code",
   "execution_count": 38,
   "metadata": {},
   "outputs": [
    {
     "name": "stdout",
     "output_type": "stream",
     "text": [
      "CPU times: user 1min 42s, sys: 22.8 s, total: 2min 4s\n",
      "Wall time: 1min 11s\n"
     ]
    }
   ],
   "source": [
    "%%time\n",
    "GF = G_ds.weighted(A).mean(dim = ['lat','lon'])\n",
    "\n",
    "conv_1pct_mean = {}\n",
    "for m1 in ['NORESM2_A1', 'NORESM2_B1']:\n",
    "    conv_1pct_mean[m1] = {}\n",
    "    for t in ['pulse','cdr']:\n",
    "        if m1 == 'NORESM2_A1' or m1 == 'NORESM2_B1':\n",
    "            m2 = 'NORESM2'\n",
    "        else:\n",
    "            m2 = m1\n",
    "        conv_1pct_mean[m1][t] = signal.convolve( np.array(GF.sel(model = m2, pulse_type = t).dropna(dim = 's')), np.array(emis_co2_GtC_ds.sel(model = m1).dropna(dim = 'year')),'full')\n",
    "        conv_1pct_mean[m1][t] = utils.np_to_xr_mean(conv_1pct_mean[m1][t], GF.sel(model = m2, pulse_type = t), emis_co2_GtC_ds.sel(model = m1))\n"
   ]
  },
  {
   "cell_type": "code",
   "execution_count": 50,
   "metadata": {},
   "outputs": [],
   "source": [
    "#convert to dataset\n",
    "\n",
    "conv_1pct_dict = {}\n",
    "for m in conv_1pct_mean.keys():\n",
    "    conv_1pct_dict[m] = xr.concat([conv_1pct_mean[m][t] for t in conv_1pct_mean[m].keys()], pd.Index([t for t in conv_1pct_mean[m].keys()], name='pulse_type'))\n",
    "conv_1pct_mean_ds = xr.concat([conv_1pct_dict[m] for m in conv_1pct_dict.keys()], pd.Index([m for m in conv_1pct_dict.keys()], name='model'), coords='minimal')\n"
   ]
  },
  {
   "cell_type": "code",
   "execution_count": 53,
   "metadata": {},
   "outputs": [],
   "source": [
    "tas_A1B1 = {}\n",
    "for m in model_run_A1B1_dict.keys():\n",
    "    tas_A1B1[m] = pd.read_csv(f'zecmip_data/fgco2_{model_run_A1B1_dict[m]}', names = ['year','val']) #kgC/m2/s"
   ]
  },
  {
   "cell_type": "code",
   "execution_count": 57,
   "metadata": {},
   "outputs": [
    {
     "name": "stdout",
     "output_type": "stream",
     "text": [
      "NORESM2\n",
      "tas\n"
     ]
    },
    {
     "name": "stderr",
     "output_type": "stream",
     "text": [
      "/home/emfreese/anaconda3/envs/gchp/lib/python3.9/site-packages/xesmf/frontend.py:555: FutureWarning: ``output_sizes`` should be given in the ``dask_gufunc_kwargs`` parameter. It will be removed as direct parameter in a future version.\n",
      "  ds_out = xr.apply_ufunc(\n"
     ]
    },
    {
     "name": "stdout",
     "output_type": "stream",
     "text": [
      "GFDL\n",
      "tas\n"
     ]
    },
    {
     "name": "stderr",
     "output_type": "stream",
     "text": [
      "/home/emfreese/anaconda3/envs/gchp/lib/python3.9/site-packages/xesmf/frontend.py:555: FutureWarning: ``output_sizes`` should be given in the ``dask_gufunc_kwargs`` parameter. It will be removed as direct parameter in a future version.\n",
      "  ds_out = xr.apply_ufunc(\n"
     ]
    }
   ],
   "source": [
    "tas_co2_pictrl = {}\n",
    "\n",
    "for m in ['NORESM2','GFDL']:\n",
    "    print(m)\n",
    "    print('tas')\n",
    "    tas_co2_pictrl[m] = xr.open_mfdataset(f'cmip6_data/tas_Amon_{model_run_control_dict[m]}',  use_cftime=True) #kg/m2/s\n",
    "    lat_corners = cfxr.bounds_to_vertices(tas_co2_pictrl[m].isel(time = 0)['lat_bnds'], \"bnds\", order=None)\n",
    "    lon_corners = cfxr.bounds_to_vertices(tas_co2_pictrl[m].isel(time = 0)['lon_bnds'], \"bnds\", order=None)\n",
    "    tas_co2_pictrl[m] = tas_co2_pictrl[m].assign(lon_b=lon_corners, lat_b=lat_corners)\n",
    "    tas_co2_pictrl[m] = utils._regrid_ds(tas_co2_pictrl[m], ds_out)\n",
    "\n",
    "## fix the times so that they line up according to the notes above\n",
    "m = 'NORESM2'\n",
    "tas_co2_pictrl[m]['time'] = tas_co2_pictrl[m]['time'] -timedelta(365*1599)"
   ]
  },
  {
   "cell_type": "code",
   "execution_count": 64,
   "metadata": {},
   "outputs": [
    {
     "name": "stdout",
     "output_type": "stream",
     "text": [
      "3000\n",
      "3000\n"
     ]
    }
   ],
   "source": [
    "for m1 in ['NORESM2','GFDL']:\n",
    "    if len(tas_co2_pictrl[m1]['time']) > 3000:  #hack to get the time stamping to work, should find better fix\n",
    "        periods = 3000\n",
    "    else:\n",
    "        periods = len(dif[m1]['time'])\n",
    "    print(periods) \n",
    "    times = pd.date_range('2000', periods=periods, freq='MS')\n",
    "    weights = times.shift(1, 'MS') - times\n",
    "    weights = xr.DataArray(weights, [('time', tas_co2_pictrl[m1]['time'][:periods].values)]).astype('float')\n",
    "    tas_co2_pictrl[m1] =  (tas_co2_pictrl[m1] * weights).groupby('time.year').sum('time')/weights.groupby('time.year').sum('time')\n",
    "\n",
    "    #dif[m1] = dif[m1].groupby('time.year').mean()\n",
    "    tas_co2_pictrl[m1]['year'] = range(len(tas_co2_pictrl[m1]['year']))"
   ]
  },
  {
   "cell_type": "code",
   "execution_count": 78,
   "metadata": {},
   "outputs": [],
   "source": [
    "for m1 in ['NORESM2','GFDL']:\n",
    "    tas_co2_pictrl[m1] = tas_co2_pictrl[m1].weighted(A).mean(dim = ['lat','lon'])"
   ]
  },
  {
   "cell_type": "code",
   "execution_count": 83,
   "metadata": {},
   "outputs": [
    {
     "name": "stdout",
     "output_type": "stream",
     "text": [
      "GFDL_B1 GFDL\n",
      "NORESM2_B1 NORESM2\n",
      "GFDL_A1 GFDL\n",
      "NORESM2_A1 NORESM2\n"
     ]
    }
   ],
   "source": [
    "tas_dif = {}\n",
    "for m1 in co2_A1B1.keys():\n",
    "    if m1 == 'GFDL_B1' or m1 == 'GFDL_A1':\n",
    "        m2 = 'GFDL'\n",
    "    elif m1 == 'NORESM2_B1' or m1 == 'NORESM2_A1':\n",
    "        m2 = 'NORESM2'\n",
    "    print(m1, m2)   \n",
    "    tas_dif[m1] = xr.Dataset(tas_A1B1[m1].set_index('year'))['val'] - tas_co2_pictrl[m2]['tas']"
   ]
  },
  {
   "cell_type": "code",
   "execution_count": 88,
   "metadata": {},
   "outputs": [
    {
     "data": {
      "text/html": [
       "<div><svg style=\"position: absolute; width: 0; height: 0; overflow: hidden\">\n",
       "<defs>\n",
       "<symbol id=\"icon-database\" viewBox=\"0 0 32 32\">\n",
       "<path d=\"M16 0c-8.837 0-16 2.239-16 5v4c0 2.761 7.163 5 16 5s16-2.239 16-5v-4c0-2.761-7.163-5-16-5z\"></path>\n",
       "<path d=\"M16 17c-8.837 0-16-2.239-16-5v6c0 2.761 7.163 5 16 5s16-2.239 16-5v-6c0 2.761-7.163 5-16 5z\"></path>\n",
       "<path d=\"M16 26c-8.837 0-16-2.239-16-5v6c0 2.761 7.163 5 16 5s16-2.239 16-5v-6c0 2.761-7.163 5-16 5z\"></path>\n",
       "</symbol>\n",
       "<symbol id=\"icon-file-text2\" viewBox=\"0 0 32 32\">\n",
       "<path d=\"M28.681 7.159c-0.694-0.947-1.662-2.053-2.724-3.116s-2.169-2.030-3.116-2.724c-1.612-1.182-2.393-1.319-2.841-1.319h-15.5c-1.378 0-2.5 1.121-2.5 2.5v27c0 1.378 1.122 2.5 2.5 2.5h23c1.378 0 2.5-1.122 2.5-2.5v-19.5c0-0.448-0.137-1.23-1.319-2.841zM24.543 5.457c0.959 0.959 1.712 1.825 2.268 2.543h-4.811v-4.811c0.718 0.556 1.584 1.309 2.543 2.268zM28 29.5c0 0.271-0.229 0.5-0.5 0.5h-23c-0.271 0-0.5-0.229-0.5-0.5v-27c0-0.271 0.229-0.5 0.5-0.5 0 0 15.499-0 15.5 0v7c0 0.552 0.448 1 1 1h7v19.5z\"></path>\n",
       "<path d=\"M23 26h-14c-0.552 0-1-0.448-1-1s0.448-1 1-1h14c0.552 0 1 0.448 1 1s-0.448 1-1 1z\"></path>\n",
       "<path d=\"M23 22h-14c-0.552 0-1-0.448-1-1s0.448-1 1-1h14c0.552 0 1 0.448 1 1s-0.448 1-1 1z\"></path>\n",
       "<path d=\"M23 18h-14c-0.552 0-1-0.448-1-1s0.448-1 1-1h14c0.552 0 1 0.448 1 1s-0.448 1-1 1z\"></path>\n",
       "</symbol>\n",
       "</defs>\n",
       "</svg>\n",
       "<style>/* CSS stylesheet for displaying xarray objects in jupyterlab.\n",
       " *\n",
       " */\n",
       "\n",
       ":root {\n",
       "  --xr-font-color0: var(--jp-content-font-color0, rgba(0, 0, 0, 1));\n",
       "  --xr-font-color2: var(--jp-content-font-color2, rgba(0, 0, 0, 0.54));\n",
       "  --xr-font-color3: var(--jp-content-font-color3, rgba(0, 0, 0, 0.38));\n",
       "  --xr-border-color: var(--jp-border-color2, #e0e0e0);\n",
       "  --xr-disabled-color: var(--jp-layout-color3, #bdbdbd);\n",
       "  --xr-background-color: var(--jp-layout-color0, white);\n",
       "  --xr-background-color-row-even: var(--jp-layout-color1, white);\n",
       "  --xr-background-color-row-odd: var(--jp-layout-color2, #eeeeee);\n",
       "}\n",
       "\n",
       "html[theme=dark],\n",
       "body.vscode-dark {\n",
       "  --xr-font-color0: rgba(255, 255, 255, 1);\n",
       "  --xr-font-color2: rgba(255, 255, 255, 0.54);\n",
       "  --xr-font-color3: rgba(255, 255, 255, 0.38);\n",
       "  --xr-border-color: #1F1F1F;\n",
       "  --xr-disabled-color: #515151;\n",
       "  --xr-background-color: #111111;\n",
       "  --xr-background-color-row-even: #111111;\n",
       "  --xr-background-color-row-odd: #313131;\n",
       "}\n",
       "\n",
       ".xr-wrap {\n",
       "  display: block !important;\n",
       "  min-width: 300px;\n",
       "  max-width: 700px;\n",
       "}\n",
       "\n",
       ".xr-text-repr-fallback {\n",
       "  /* fallback to plain text repr when CSS is not injected (untrusted notebook) */\n",
       "  display: none;\n",
       "}\n",
       "\n",
       ".xr-header {\n",
       "  padding-top: 6px;\n",
       "  padding-bottom: 6px;\n",
       "  margin-bottom: 4px;\n",
       "  border-bottom: solid 1px var(--xr-border-color);\n",
       "}\n",
       "\n",
       ".xr-header > div,\n",
       ".xr-header > ul {\n",
       "  display: inline;\n",
       "  margin-top: 0;\n",
       "  margin-bottom: 0;\n",
       "}\n",
       "\n",
       ".xr-obj-type,\n",
       ".xr-array-name {\n",
       "  margin-left: 2px;\n",
       "  margin-right: 10px;\n",
       "}\n",
       "\n",
       ".xr-obj-type {\n",
       "  color: var(--xr-font-color2);\n",
       "}\n",
       "\n",
       ".xr-sections {\n",
       "  padding-left: 0 !important;\n",
       "  display: grid;\n",
       "  grid-template-columns: 150px auto auto 1fr 20px 20px;\n",
       "}\n",
       "\n",
       ".xr-section-item {\n",
       "  display: contents;\n",
       "}\n",
       "\n",
       ".xr-section-item input {\n",
       "  display: none;\n",
       "}\n",
       "\n",
       ".xr-section-item input + label {\n",
       "  color: var(--xr-disabled-color);\n",
       "}\n",
       "\n",
       ".xr-section-item input:enabled + label {\n",
       "  cursor: pointer;\n",
       "  color: var(--xr-font-color2);\n",
       "}\n",
       "\n",
       ".xr-section-item input:enabled + label:hover {\n",
       "  color: var(--xr-font-color0);\n",
       "}\n",
       "\n",
       ".xr-section-summary {\n",
       "  grid-column: 1;\n",
       "  color: var(--xr-font-color2);\n",
       "  font-weight: 500;\n",
       "}\n",
       "\n",
       ".xr-section-summary > span {\n",
       "  display: inline-block;\n",
       "  padding-left: 0.5em;\n",
       "}\n",
       "\n",
       ".xr-section-summary-in:disabled + label {\n",
       "  color: var(--xr-font-color2);\n",
       "}\n",
       "\n",
       ".xr-section-summary-in + label:before {\n",
       "  display: inline-block;\n",
       "  content: '►';\n",
       "  font-size: 11px;\n",
       "  width: 15px;\n",
       "  text-align: center;\n",
       "}\n",
       "\n",
       ".xr-section-summary-in:disabled + label:before {\n",
       "  color: var(--xr-disabled-color);\n",
       "}\n",
       "\n",
       ".xr-section-summary-in:checked + label:before {\n",
       "  content: '▼';\n",
       "}\n",
       "\n",
       ".xr-section-summary-in:checked + label > span {\n",
       "  display: none;\n",
       "}\n",
       "\n",
       ".xr-section-summary,\n",
       ".xr-section-inline-details {\n",
       "  padding-top: 4px;\n",
       "  padding-bottom: 4px;\n",
       "}\n",
       "\n",
       ".xr-section-inline-details {\n",
       "  grid-column: 2 / -1;\n",
       "}\n",
       "\n",
       ".xr-section-details {\n",
       "  display: none;\n",
       "  grid-column: 1 / -1;\n",
       "  margin-bottom: 5px;\n",
       "}\n",
       "\n",
       ".xr-section-summary-in:checked ~ .xr-section-details {\n",
       "  display: contents;\n",
       "}\n",
       "\n",
       ".xr-array-wrap {\n",
       "  grid-column: 1 / -1;\n",
       "  display: grid;\n",
       "  grid-template-columns: 20px auto;\n",
       "}\n",
       "\n",
       ".xr-array-wrap > label {\n",
       "  grid-column: 1;\n",
       "  vertical-align: top;\n",
       "}\n",
       "\n",
       ".xr-preview {\n",
       "  color: var(--xr-font-color3);\n",
       "}\n",
       "\n",
       ".xr-array-preview,\n",
       ".xr-array-data {\n",
       "  padding: 0 5px !important;\n",
       "  grid-column: 2;\n",
       "}\n",
       "\n",
       ".xr-array-data,\n",
       ".xr-array-in:checked ~ .xr-array-preview {\n",
       "  display: none;\n",
       "}\n",
       "\n",
       ".xr-array-in:checked ~ .xr-array-data,\n",
       ".xr-array-preview {\n",
       "  display: inline-block;\n",
       "}\n",
       "\n",
       ".xr-dim-list {\n",
       "  display: inline-block !important;\n",
       "  list-style: none;\n",
       "  padding: 0 !important;\n",
       "  margin: 0;\n",
       "}\n",
       "\n",
       ".xr-dim-list li {\n",
       "  display: inline-block;\n",
       "  padding: 0;\n",
       "  margin: 0;\n",
       "}\n",
       "\n",
       ".xr-dim-list:before {\n",
       "  content: '(';\n",
       "}\n",
       "\n",
       ".xr-dim-list:after {\n",
       "  content: ')';\n",
       "}\n",
       "\n",
       ".xr-dim-list li:not(:last-child):after {\n",
       "  content: ',';\n",
       "  padding-right: 5px;\n",
       "}\n",
       "\n",
       ".xr-has-index {\n",
       "  font-weight: bold;\n",
       "}\n",
       "\n",
       ".xr-var-list,\n",
       ".xr-var-item {\n",
       "  display: contents;\n",
       "}\n",
       "\n",
       ".xr-var-item > div,\n",
       ".xr-var-item label,\n",
       ".xr-var-item > .xr-var-name span {\n",
       "  background-color: var(--xr-background-color-row-even);\n",
       "  margin-bottom: 0;\n",
       "}\n",
       "\n",
       ".xr-var-item > .xr-var-name:hover span {\n",
       "  padding-right: 5px;\n",
       "}\n",
       "\n",
       ".xr-var-list > li:nth-child(odd) > div,\n",
       ".xr-var-list > li:nth-child(odd) > label,\n",
       ".xr-var-list > li:nth-child(odd) > .xr-var-name span {\n",
       "  background-color: var(--xr-background-color-row-odd);\n",
       "}\n",
       "\n",
       ".xr-var-name {\n",
       "  grid-column: 1;\n",
       "}\n",
       "\n",
       ".xr-var-dims {\n",
       "  grid-column: 2;\n",
       "}\n",
       "\n",
       ".xr-var-dtype {\n",
       "  grid-column: 3;\n",
       "  text-align: right;\n",
       "  color: var(--xr-font-color2);\n",
       "}\n",
       "\n",
       ".xr-var-preview {\n",
       "  grid-column: 4;\n",
       "}\n",
       "\n",
       ".xr-var-name,\n",
       ".xr-var-dims,\n",
       ".xr-var-dtype,\n",
       ".xr-preview,\n",
       ".xr-attrs dt {\n",
       "  white-space: nowrap;\n",
       "  overflow: hidden;\n",
       "  text-overflow: ellipsis;\n",
       "  padding-right: 10px;\n",
       "}\n",
       "\n",
       ".xr-var-name:hover,\n",
       ".xr-var-dims:hover,\n",
       ".xr-var-dtype:hover,\n",
       ".xr-attrs dt:hover {\n",
       "  overflow: visible;\n",
       "  width: auto;\n",
       "  z-index: 1;\n",
       "}\n",
       "\n",
       ".xr-var-attrs,\n",
       ".xr-var-data {\n",
       "  display: none;\n",
       "  background-color: var(--xr-background-color) !important;\n",
       "  padding-bottom: 5px !important;\n",
       "}\n",
       "\n",
       ".xr-var-attrs-in:checked ~ .xr-var-attrs,\n",
       ".xr-var-data-in:checked ~ .xr-var-data {\n",
       "  display: block;\n",
       "}\n",
       "\n",
       ".xr-var-data > table {\n",
       "  float: right;\n",
       "}\n",
       "\n",
       ".xr-var-name span,\n",
       ".xr-var-data,\n",
       ".xr-attrs {\n",
       "  padding-left: 25px !important;\n",
       "}\n",
       "\n",
       ".xr-attrs,\n",
       ".xr-var-attrs,\n",
       ".xr-var-data {\n",
       "  grid-column: 1 / -1;\n",
       "}\n",
       "\n",
       "dl.xr-attrs {\n",
       "  padding: 0;\n",
       "  margin: 0;\n",
       "  display: grid;\n",
       "  grid-template-columns: 125px auto;\n",
       "}\n",
       "\n",
       ".xr-attrs dt,\n",
       ".xr-attrs dd {\n",
       "  padding: 0;\n",
       "  margin: 0;\n",
       "  float: left;\n",
       "  padding-right: 10px;\n",
       "  width: auto;\n",
       "}\n",
       "\n",
       ".xr-attrs dt {\n",
       "  font-weight: normal;\n",
       "  grid-column: 1;\n",
       "}\n",
       "\n",
       ".xr-attrs dt:hover span {\n",
       "  display: inline-block;\n",
       "  background: var(--xr-background-color);\n",
       "  padding-right: 10px;\n",
       "}\n",
       "\n",
       ".xr-attrs dd {\n",
       "  grid-column: 2;\n",
       "  white-space: pre-wrap;\n",
       "  word-break: break-all;\n",
       "}\n",
       "\n",
       ".xr-icon-database,\n",
       ".xr-icon-file-text2 {\n",
       "  display: inline-block;\n",
       "  vertical-align: middle;\n",
       "  width: 1em;\n",
       "  height: 1.5em !important;\n",
       "  stroke-width: 0;\n",
       "  stroke: currentColor;\n",
       "  fill: currentColor;\n",
       "}\n",
       "</style><pre class='xr-text-repr-fallback'>&lt;xarray.DataArray &#x27;val&#x27; (year: 166)&gt;\n",
       "array([0.14212, 0.49504, 0.74235, 0.9159 , 1.2084 , 1.3909 , 1.6068 ,\n",
       "       1.7847 , 1.9046 , 2.051  , 2.0632 , 2.1878 , 2.3784 , 2.3794 ,\n",
       "       2.3666 , 2.529  , 2.6883 , 2.6652 , 2.876  , 3.0445 , 3.0392 ,\n",
       "       3.075  , 3.2092 , 3.2323 , 3.3592 , 3.4283 , 3.3554 , 3.4576 ,\n",
       "       3.5027 , 3.5453 , 3.6194 , 3.6413 , 3.7725 , 3.8793 , 3.8461 ,\n",
       "       3.9558 , 3.9136 , 3.9648 , 3.9663 , 4.0139 , 4.0807 , 4.1823 ,\n",
       "       4.0862 , 4.27   , 4.251  , 4.2661 , 4.3163 , 4.2382 , 4.3302 ,\n",
       "       4.4685 , 4.4192 , 4.5359 , 4.5652 , 4.4575 , 4.3262 , 4.6248 ,\n",
       "       4.6103 , 4.6348 , 4.601  , 4.6798 , 4.6559 , 4.7049 , 4.6928 ,\n",
       "       4.9739 , 5.0286 , 4.8132 , 4.0216 , 3.4695 , 3.3055 , 2.8888 ,\n",
       "       2.6829 , 2.5139 , 2.3158 , 2.2206 , 1.9544 , 1.9756 , 1.9617 ,\n",
       "       1.9203 , 1.8484 , 1.6568 , 1.8491 , 1.479  , 1.5407 , 1.6261 ,\n",
       "       1.5324 , 1.3692 , 1.4403 , 1.2958 , 1.2542 , 1.4551 , 1.278  ,\n",
       "       1.1784 , 1.2995 , 1.0688 , 1.057  , 1.2062 , 1.0663 , 1.086  ,\n",
       "       1.2186 , 1.0073 , 1.0096 , 1.1351 , 1.1422 , 0.91583, 0.8409 ,\n",
       "       1.0594 , 0.91218, 0.95574, 0.89976, 1.074  , 0.93093, 0.80721,\n",
       "       1.0707 , 0.8102 , 0.88997, 0.78982, 0.85383, 0.99917, 0.85295,\n",
       "       0.74357, 0.83717, 0.92003, 0.78602, 0.80447, 0.94911, 0.96921,\n",
       "       0.75379, 0.75479, 0.7394 , 0.64814, 0.78153, 0.85328, 0.84766,\n",
       "       0.96681, 0.8438 , 0.859  , 0.7734 , 0.73335, 0.931  , 0.84558,\n",
       "       0.8143 , 0.98131, 0.78402, 0.84438, 0.85121, 0.70605, 0.61501,\n",
       "       0.81781, 0.6428 , 0.84022, 0.74956, 0.68214, 0.96205, 0.70051,\n",
       "       0.84726, 0.79899, 0.6658 , 0.82177, 0.75671, 0.67046, 0.70411,\n",
       "       0.8591 , 0.74629, 0.75788, 0.70296, 0.97911])\n",
       "Coordinates:\n",
       "  * year     (year) int64 1 2 3 4 5 6 7 8 9 ... 159 160 161 162 163 164 165 166</pre><div class='xr-wrap' style='display:none'><div class='xr-header'><div class='xr-obj-type'>xarray.DataArray</div><div class='xr-array-name'>'val'</div><ul class='xr-dim-list'><li><span class='xr-has-index'>year</span>: 166</li></ul></div><ul class='xr-sections'><li class='xr-section-item'><div class='xr-array-wrap'><input id='section-46715c6d-b92c-4200-94f5-42951e7aafb9' class='xr-array-in' type='checkbox' checked><label for='section-46715c6d-b92c-4200-94f5-42951e7aafb9' title='Show/hide data repr'><svg class='icon xr-icon-database'><use xlink:href='#icon-database'></use></svg></label><div class='xr-array-preview xr-preview'><span>0.1421 0.495 0.7423 0.9159 1.208 ... 0.8591 0.7463 0.7579 0.703 0.9791</span></div><div class='xr-array-data'><pre>array([0.14212, 0.49504, 0.74235, 0.9159 , 1.2084 , 1.3909 , 1.6068 ,\n",
       "       1.7847 , 1.9046 , 2.051  , 2.0632 , 2.1878 , 2.3784 , 2.3794 ,\n",
       "       2.3666 , 2.529  , 2.6883 , 2.6652 , 2.876  , 3.0445 , 3.0392 ,\n",
       "       3.075  , 3.2092 , 3.2323 , 3.3592 , 3.4283 , 3.3554 , 3.4576 ,\n",
       "       3.5027 , 3.5453 , 3.6194 , 3.6413 , 3.7725 , 3.8793 , 3.8461 ,\n",
       "       3.9558 , 3.9136 , 3.9648 , 3.9663 , 4.0139 , 4.0807 , 4.1823 ,\n",
       "       4.0862 , 4.27   , 4.251  , 4.2661 , 4.3163 , 4.2382 , 4.3302 ,\n",
       "       4.4685 , 4.4192 , 4.5359 , 4.5652 , 4.4575 , 4.3262 , 4.6248 ,\n",
       "       4.6103 , 4.6348 , 4.601  , 4.6798 , 4.6559 , 4.7049 , 4.6928 ,\n",
       "       4.9739 , 5.0286 , 4.8132 , 4.0216 , 3.4695 , 3.3055 , 2.8888 ,\n",
       "       2.6829 , 2.5139 , 2.3158 , 2.2206 , 1.9544 , 1.9756 , 1.9617 ,\n",
       "       1.9203 , 1.8484 , 1.6568 , 1.8491 , 1.479  , 1.5407 , 1.6261 ,\n",
       "       1.5324 , 1.3692 , 1.4403 , 1.2958 , 1.2542 , 1.4551 , 1.278  ,\n",
       "       1.1784 , 1.2995 , 1.0688 , 1.057  , 1.2062 , 1.0663 , 1.086  ,\n",
       "       1.2186 , 1.0073 , 1.0096 , 1.1351 , 1.1422 , 0.91583, 0.8409 ,\n",
       "       1.0594 , 0.91218, 0.95574, 0.89976, 1.074  , 0.93093, 0.80721,\n",
       "       1.0707 , 0.8102 , 0.88997, 0.78982, 0.85383, 0.99917, 0.85295,\n",
       "       0.74357, 0.83717, 0.92003, 0.78602, 0.80447, 0.94911, 0.96921,\n",
       "       0.75379, 0.75479, 0.7394 , 0.64814, 0.78153, 0.85328, 0.84766,\n",
       "       0.96681, 0.8438 , 0.859  , 0.7734 , 0.73335, 0.931  , 0.84558,\n",
       "       0.8143 , 0.98131, 0.78402, 0.84438, 0.85121, 0.70605, 0.61501,\n",
       "       0.81781, 0.6428 , 0.84022, 0.74956, 0.68214, 0.96205, 0.70051,\n",
       "       0.84726, 0.79899, 0.6658 , 0.82177, 0.75671, 0.67046, 0.70411,\n",
       "       0.8591 , 0.74629, 0.75788, 0.70296, 0.97911])</pre></div></div></li><li class='xr-section-item'><input id='section-98f55cd3-bc8d-4510-b001-9d0c8967b652' class='xr-section-summary-in' type='checkbox'  checked><label for='section-98f55cd3-bc8d-4510-b001-9d0c8967b652' class='xr-section-summary' >Coordinates: <span>(1)</span></label><div class='xr-section-inline-details'></div><div class='xr-section-details'><ul class='xr-var-list'><li class='xr-var-item'><div class='xr-var-name'><span class='xr-has-index'>year</span></div><div class='xr-var-dims'>(year)</div><div class='xr-var-dtype'>int64</div><div class='xr-var-preview xr-preview'>1 2 3 4 5 6 ... 162 163 164 165 166</div><input id='attrs-f8a03827-bf19-45d7-bc4f-71f595478fe7' class='xr-var-attrs-in' type='checkbox' disabled><label for='attrs-f8a03827-bf19-45d7-bc4f-71f595478fe7' title='Show/Hide attributes'><svg class='icon xr-icon-file-text2'><use xlink:href='#icon-file-text2'></use></svg></label><input id='data-3cc4ab3a-b53f-49c6-89c7-d2ba9adea51a' class='xr-var-data-in' type='checkbox'><label for='data-3cc4ab3a-b53f-49c6-89c7-d2ba9adea51a' title='Show/Hide data repr'><svg class='icon xr-icon-database'><use xlink:href='#icon-database'></use></svg></label><div class='xr-var-attrs'><dl class='xr-attrs'></dl></div><div class='xr-var-data'><pre>array([  1,   2,   3,   4,   5,   6,   7,   8,   9,  10,  11,  12,  13,  14,\n",
       "        15,  16,  17,  18,  19,  20,  21,  22,  23,  24,  25,  26,  27,  28,\n",
       "        29,  30,  31,  32,  33,  34,  35,  36,  37,  38,  39,  40,  41,  42,\n",
       "        43,  44,  45,  46,  47,  48,  49,  50,  51,  52,  53,  54,  55,  56,\n",
       "        57,  58,  59,  60,  61,  62,  63,  64,  65,  66,  67,  68,  69,  70,\n",
       "        71,  72,  73,  74,  75,  76,  77,  78,  79,  80,  81,  82,  83,  84,\n",
       "        85,  86,  87,  88,  89,  90,  91,  92,  93,  94,  95,  96,  97,  98,\n",
       "        99, 100, 101, 102, 103, 104, 105, 106, 107, 108, 109, 110, 111, 112,\n",
       "       113, 114, 115, 116, 117, 118, 119, 120, 121, 122, 123, 124, 125, 126,\n",
       "       127, 128, 129, 130, 131, 132, 133, 134, 135, 136, 137, 138, 139, 140,\n",
       "       141, 142, 143, 144, 145, 146, 147, 148, 149, 150, 151, 152, 153, 154,\n",
       "       155, 156, 157, 158, 159, 160, 161, 162, 163, 164, 165, 166])</pre></div></li></ul></div></li><li class='xr-section-item'><input id='section-ad92afca-fc36-47de-8335-31cc08ee2fa1' class='xr-section-summary-in' type='checkbox' disabled ><label for='section-ad92afca-fc36-47de-8335-31cc08ee2fa1' class='xr-section-summary'  title='Expand/collapse section'>Attributes: <span>(0)</span></label><div class='xr-section-inline-details'></div><div class='xr-section-details'><dl class='xr-attrs'></dl></div></li></ul></div></div>"
      ],
      "text/plain": [
       "<xarray.DataArray 'val' (year: 166)>\n",
       "array([0.14212, 0.49504, 0.74235, 0.9159 , 1.2084 , 1.3909 , 1.6068 ,\n",
       "       1.7847 , 1.9046 , 2.051  , 2.0632 , 2.1878 , 2.3784 , 2.3794 ,\n",
       "       2.3666 , 2.529  , 2.6883 , 2.6652 , 2.876  , 3.0445 , 3.0392 ,\n",
       "       3.075  , 3.2092 , 3.2323 , 3.3592 , 3.4283 , 3.3554 , 3.4576 ,\n",
       "       3.5027 , 3.5453 , 3.6194 , 3.6413 , 3.7725 , 3.8793 , 3.8461 ,\n",
       "       3.9558 , 3.9136 , 3.9648 , 3.9663 , 4.0139 , 4.0807 , 4.1823 ,\n",
       "       4.0862 , 4.27   , 4.251  , 4.2661 , 4.3163 , 4.2382 , 4.3302 ,\n",
       "       4.4685 , 4.4192 , 4.5359 , 4.5652 , 4.4575 , 4.3262 , 4.6248 ,\n",
       "       4.6103 , 4.6348 , 4.601  , 4.6798 , 4.6559 , 4.7049 , 4.6928 ,\n",
       "       4.9739 , 5.0286 , 4.8132 , 4.0216 , 3.4695 , 3.3055 , 2.8888 ,\n",
       "       2.6829 , 2.5139 , 2.3158 , 2.2206 , 1.9544 , 1.9756 , 1.9617 ,\n",
       "       1.9203 , 1.8484 , 1.6568 , 1.8491 , 1.479  , 1.5407 , 1.6261 ,\n",
       "       1.5324 , 1.3692 , 1.4403 , 1.2958 , 1.2542 , 1.4551 , 1.278  ,\n",
       "       1.1784 , 1.2995 , 1.0688 , 1.057  , 1.2062 , 1.0663 , 1.086  ,\n",
       "       1.2186 , 1.0073 , 1.0096 , 1.1351 , 1.1422 , 0.91583, 0.8409 ,\n",
       "       1.0594 , 0.91218, 0.95574, 0.89976, 1.074  , 0.93093, 0.80721,\n",
       "       1.0707 , 0.8102 , 0.88997, 0.78982, 0.85383, 0.99917, 0.85295,\n",
       "       0.74357, 0.83717, 0.92003, 0.78602, 0.80447, 0.94911, 0.96921,\n",
       "       0.75379, 0.75479, 0.7394 , 0.64814, 0.78153, 0.85328, 0.84766,\n",
       "       0.96681, 0.8438 , 0.859  , 0.7734 , 0.73335, 0.931  , 0.84558,\n",
       "       0.8143 , 0.98131, 0.78402, 0.84438, 0.85121, 0.70605, 0.61501,\n",
       "       0.81781, 0.6428 , 0.84022, 0.74956, 0.68214, 0.96205, 0.70051,\n",
       "       0.84726, 0.79899, 0.6658 , 0.82177, 0.75671, 0.67046, 0.70411,\n",
       "       0.8591 , 0.74629, 0.75788, 0.70296, 0.97911])\n",
       "Coordinates:\n",
       "  * year     (year) int64 1 2 3 4 5 6 7 8 9 ... 159 160 161 162 163 164 165 166"
      ]
     },
     "execution_count": 88,
     "metadata": {},
     "output_type": "execute_result"
    }
   ],
   "source": []
  },
  {
   "cell_type": "code",
   "execution_count": 87,
   "metadata": {},
   "outputs": [
    {
     "data": {
      "image/png": "[encoded data removed]",
      "text/plain": [
       "<Figure size 432x288 with 1 Axes>"
      ]
     },
     "metadata": {
      "needs_background": "light"
     },
     "output_type": "display_data"
    }
   ],
   "source": [
    "for m in tas_dif.keys():\n",
    "    plt.plot(tas_dif[m], label = m)\n",
    "    plt.legend()"
   ]
  },
  {
   "cell_type": "code",
   "execution_count": 92,
   "metadata": {},
   "outputs": [
    {
     "data": {
      "image/png": "[encoded data removed]",
      "text/plain": [
       "<Figure size 432x288 with 1 Axes>"
      ]
     },
     "metadata": {
      "needs_background": "light"
     },
     "output_type": "display_data"
    }
   ],
   "source": [
    "for m in ['NORESM2_B1','NORESM2_A1']:\n",
    "    plt.plot(conv_1pct_mean_ds.sel(model = m).mean(dim = ['pulse_type']))\n",
    "    plt.plot(tas_A1B1[m]['val'])"
   ]
  },
  {
   "cell_type": "code",
   "execution_count": null,
   "metadata": {},
   "outputs": [],
   "source": []
  }
 ],
 "metadata": {
  "kernelspec": {
   "display_name": "Python (gchp)",
   "language": "python",
   "name": "gchp"
  },
  "language_info": {
   "codemirror_mode": {
    "name": "ipython",
    "version": 3
   },
   "file_extension": ".py",
   "mimetype": "text/x-python",
   "name": "python",
   "nbconvert_exporter": "python",
   "pygments_lexer": "ipython3",
   "version": "3.9.10"
  }
 },
 "nbformat": 4,
 "nbformat_minor": 4
}
