{
 "cells": [
  {
   "cell_type": "code",
   "execution_count": 1,
   "id": "c670f17c-6be8-4000-b707-412d5417f8e7",
   "metadata": {},
   "outputs": [
    {
     "name": "stderr",
     "output_type": "stream",
     "text": [
      "/home/emfreese/anaconda3/envs/gchp/lib/python3.9/site-packages/pyproj/__init__.py:89: UserWarning: pyproj unable to set database path.\n",
      "  _pyproj_global_context_initialize()\n"
     ]
    }
   ],
   "source": [
    "%matplotlib inline\n",
    "\n",
    "%matplotlib inline\n",
    "%load_ext autoreload\n",
    "%autoreload 2\n",
    "\n",
    "import xarray as xr\n",
    "import pandas as pd\n",
    "import matplotlib.pyplot as plt\n",
    "import numpy as np\n",
    "import cftime\n",
    "import dask\n",
    "import xarrayutils\n",
    "import cartopy.crs as ccrs\n",
    "from xmip.preprocessing import combined_preprocessing\n",
    "from xmip.preprocessing import replace_x_y_nominal_lat_lon\n",
    "from xmip.drift_removal import replace_time\n",
    "from xmip.postprocessing import concat_experiments\n",
    "import xmip.drift_removal as xm_dr\n",
    "import xmip as xm\n",
    "import xesmf as xe\n",
    "import datetime\n",
    "from dateutil.relativedelta import relativedelta\n",
    "import utils\n",
    "\n",
    "from sklearn.linear_model import LinearRegression\n",
    "import scipy.signal as signal\n",
    "from scipy import stats"
   ]
  },
  {
   "cell_type": "code",
   "execution_count": 2,
   "id": "de9915ce-385c-427a-a7e2-143eceb74fb7",
   "metadata": {},
   "outputs": [],
   "source": [
    "G_ds = xr.open_dataset('Outputs/G_ds.nc4')['tas']\n",
    "G_mean_ds = xr.open_dataset('Outputs/G_mean_ds.nc4')['tas']"
   ]
  },
  {
   "cell_type": "markdown",
   "id": "d7e02a11-895e-4b1d-a9e6-88b46215b564",
   "metadata": {},
   "source": [
    "The structure for the file names is as follows:\n",
    "\n",
    "“2p1” or “2p2” = 2.1 or 2.2 W/m2 radiative forcing target, or roughly a 1.5ºC end-of-century temperature target\n",
    "\n",
    "“2p7” or “2p8” = 2.7 or 2.8 W/m2 radiative forcing target, or roughly a 2ºC end-of-century temperature target\n",
    "\n",
    "“_delay” = this tag indicates delayed mitigation action; in these scenarios, all coal plants currently under development (as of 2021) come online by 2030 and mitigation from coal power and other sectors is delayed until after 2030 (the files without this tag assume no new coal capacity starting in 2020)\n",
    "\n",
    "“_allnew_2016” or “_allnew_2021” = based on 2016/2021 pipeline, all proposed coal plants are implemented, continued growth to 2050"
   ]
  },
  {
   "cell_type": "code",
   "execution_count": 115,
   "id": "d4fca80e-7dec-412f-acee-a98fb6fa04c1",
   "metadata": {},
   "outputs": [],
   "source": [
    "df_2p1_delay = pd.read_csv('Edwards_output/output_2p1_delay.csv', header = 1)\n",
    "df_2p2 = pd.read_csv('Edwards_output/output_2p2.csv', header = 1)"
   ]
  },
  {
   "cell_type": "code",
   "execution_count": 132,
   "id": "1f68fb1e-f539-4a12-9dda-4849999662f9",
   "metadata": {},
   "outputs": [],
   "source": [
    "df_2p1_delay_region = df_2p1_delay[:32]\n",
    "df_2p1_delay_region = df_2p1_delay_region.set_index('region')\n",
    "df_2p1_delay_region = df_2p1_delay_region.T.drop('scenario')\n",
    "df_2p1_delay_region = df_2p1_delay_region[:-4]\n",
    "df_2p1_delay_region = df_2p1_delay_region.astype(float)\n",
    "df_2p1_delay_region['total'] = df_2p1_delay_region.sum(axis = 1)\n",
    "#df_2p1_delay_region.index = pd.to_datetime(df_2p1_delay_region.index.values)\n",
    "ds_2p1_delay_region = xr.Dataset(df_2p1_delay_region).rename({'dim_0':'time'})\n",
    "ds_2p1_delay_region['time'] = ds_2p1_delay_region['time'].astype(int)\n",
    "ds_2p1_delay_region = ds_2p1_delay_region.interp(time = np.arange(1990,2100))\n",
    "ds_2p1_delay_region.attrs = {'units':'MTC'}"
   ]
  },
  {
   "cell_type": "code",
   "execution_count": null,
   "id": "1bfc11cb-1da6-494c-bfbf-afcbd5638ce9",
   "metadata": {},
   "outputs": [],
   "source": []
  },
  {
   "cell_type": "code",
   "execution_count": 133,
   "id": "6bbec8bc-ae37-447a-9fdb-4605a5c60326",
   "metadata": {},
   "outputs": [],
   "source": [
    "df_2p2_region = df_2p2[:32]\n",
    "df_2p2_region = df_2p2_region.set_index('region')\n",
    "df_2p2_region = df_2p2_region.T.drop('scenario')\n",
    "df_2p2_region = df_2p2_region[:-4]\n",
    "df_2p2_region = df_2p2_region.astype(float)\n",
    "df_2p2_region['total'] = df_2p2_region.sum(axis = 1)\n",
    "#df_2p1_delay_region.index = pd.to_datetime(df_2p1_delay_region.index.values)\n",
    "ds_2p2_region = xr.Dataset(df_2p2_region).rename({'dim_0':'time'})\n",
    "ds_2p2_region['time'] = ds_2p2_region['time'].astype(int)\n",
    "ds_2p2_region = ds_2p2_region.interp(time = np.arange(1990,2100))\n",
    "ds_2p2_region.attrs = {'units':'MTC'}"
   ]
  },
  {
   "cell_type": "code",
   "execution_count": 136,
   "id": "2d4af7c3-a1c9-46c3-b3ab-fac7082710bf",
   "metadata": {},
   "outputs": [
    {
     "ename": "ValueError",
     "evalue": "volume and kernel should have the same dimensionality",
     "output_type": "error",
     "traceback": [
      "\u001b[0;31m---------------------------------------------------------------------------\u001b[0m",
      "\u001b[0;31mValueError\u001b[0m                                Traceback (most recent call last)",
      "File \u001b[0;32m<timed exec>:5\u001b[0m, in \u001b[0;36m<module>\u001b[0;34m\u001b[0m\n",
      "File \u001b[0;32m~/anaconda3/envs/gchp/lib/python3.9/site-packages/scipy/signal/_signaltools.py:1390\u001b[0m, in \u001b[0;36mconvolve\u001b[0;34m(in1, in2, mode, method)\u001b[0m\n\u001b[1;32m   1388\u001b[0m     \u001b[38;5;28;01mreturn\u001b[39;00m volume \u001b[38;5;241m*\u001b[39m kernel\n\u001b[1;32m   1389\u001b[0m \u001b[38;5;28;01melif\u001b[39;00m volume\u001b[38;5;241m.\u001b[39mndim \u001b[38;5;241m!=\u001b[39m kernel\u001b[38;5;241m.\u001b[39mndim:\n\u001b[0;32m-> 1390\u001b[0m     \u001b[38;5;28;01mraise\u001b[39;00m \u001b[38;5;167;01mValueError\u001b[39;00m(\u001b[38;5;124m\"\u001b[39m\u001b[38;5;124mvolume and kernel should have the same \u001b[39m\u001b[38;5;124m\"\u001b[39m\n\u001b[1;32m   1391\u001b[0m                      \u001b[38;5;124m\"\u001b[39m\u001b[38;5;124mdimensionality\u001b[39m\u001b[38;5;124m\"\u001b[39m)\n\u001b[1;32m   1393\u001b[0m \u001b[38;5;28;01mif\u001b[39;00m _inputs_swap_needed(mode, volume\u001b[38;5;241m.\u001b[39mshape, kernel\u001b[38;5;241m.\u001b[39mshape):\n\u001b[1;32m   1394\u001b[0m     \u001b[38;5;66;03m# Convolution is commutative; order doesn't have any effect on output\u001b[39;00m\n\u001b[1;32m   1395\u001b[0m     volume, kernel \u001b[38;5;241m=\u001b[39m kernel, volume\n",
      "\u001b[0;31mValueError\u001b[0m: volume and kernel should have the same dimensionality"
     ]
    }
   ],
   "source": [
    "%%time\n",
    "emis_dict = {'2p2':ds_2p2_region, '2p1_delay':ds_2p1_delay_region}\n",
    "conv_1pct_mean = {}\n",
    "\n",
    "for nm in emis_dict.keys():   \n",
    "    conv_1pct_mean[nm] = signal.convolve(, np.array(G_ds), 'full')\n",
    "    conv_1pct_mean[nm] = utils.np_to_xr_mean(conv_1pct_mean[nm], G_ds, emis_dict[nm])"
   ]
  },
  {
   "cell_type": "code",
   "execution_count": 141,
   "id": "1e7b05ad-ca13-4bb2-ab05-cbdb557d8765",
   "metadata": {},
   "outputs": [
    {
     "ename": "IndexError",
     "evalue": "an index can only have a single ellipsis ('...')",
     "output_type": "error",
     "traceback": [
      "\u001b[0;31m---------------------------------------------------------------------------\u001b[0m",
      "\u001b[0;31mIndexError\u001b[0m                                Traceback (most recent call last)",
      "Input \u001b[0;32mIn [141]\u001b[0m, in \u001b[0;36m<cell line: 1>\u001b[0;34m()\u001b[0m\n\u001b[0;32m----> 1\u001b[0m \u001b[43mnp\u001b[49m\u001b[38;5;241;43m.\u001b[39;49m\u001b[43marray\u001b[49m\u001b[43m(\u001b[49m\u001b[43memis_dict\u001b[49m\u001b[43m[\u001b[49m\u001b[43mnm\u001b[49m\u001b[43m]\u001b[49m\u001b[43m[\u001b[49m\u001b[38;5;124;43m'\u001b[39;49m\u001b[38;5;124;43mtotal\u001b[39;49m\u001b[38;5;124;43m'\u001b[39;49m\u001b[43m]\u001b[49m\u001b[43m)\u001b[49m\u001b[43m[\u001b[49m\u001b[38;5;241;43m.\u001b[39;49m\u001b[38;5;241;43m.\u001b[39;49m\u001b[38;5;241;43m.\u001b[39;49m\u001b[43m,\u001b[49m\u001b[38;5;241;43m.\u001b[39;49m\u001b[38;5;241;43m.\u001b[39;49m\u001b[38;5;241;43m.\u001b[39;49m\u001b[43m,\u001b[49m\u001b[38;5;241;43m1\u001b[39;49m\u001b[43m]\u001b[49m\n",
      "\u001b[0;31mIndexError\u001b[0m: an index can only have a single ellipsis ('...')"
     ]
    }
   ],
   "source": [
    "np.array(emis_dict[nm]['total'])[...,...,1]"
   ]
  },
  {
   "cell_type": "code",
   "execution_count": null,
   "id": "d45e8ca3-1956-459e-9a1c-28236cdd75f6",
   "metadata": {},
   "outputs": [],
   "source": []
  }
 ],
 "metadata": {
  "kernelspec": {
   "display_name": "Python (gchp)",
   "language": "python",
   "name": "gchp"
  },
  "language_info": {
   "codemirror_mode": {
    "name": "ipython",
    "version": 3
   },
   "file_extension": ".py",
   "mimetype": "text/x-python",
   "name": "python",
   "nbconvert_exporter": "python",
   "pygments_lexer": "ipython3",
   "version": "3.9.10"
  }
 },
 "nbformat": 4,
 "nbformat_minor": 5
}
