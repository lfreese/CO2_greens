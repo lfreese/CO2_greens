{
 "cells": [
  {
   "cell_type": "code",
   "execution_count": 1,
   "metadata": {},
   "outputs": [
    {
     "data": {
      "text/plain": [
       "<dask.config.set at 0x7f9eb1116160>"
      ]
     },
     "execution_count": 1,
     "metadata": {},
     "output_type": "execute_result"
    }
   ],
   "source": [
    "%matplotlib inline\n",
    "\n",
    "%matplotlib inline\n",
    "%load_ext autoreload\n",
    "%autoreload 2\n",
    "\n",
    "import xarray as xr\n",
    "import pandas as pd\n",
    "import matplotlib.pyplot as plt\n",
    "import numpy as np\n",
    "import cftime\n",
    "import dask\n",
    "import xarrayutils\n",
    "import cartopy.crs as ccrs\n",
    "from xmip.preprocessing import combined_preprocessing\n",
    "from xmip.preprocessing import replace_x_y_nominal_lat_lon\n",
    "from xmip.drift_removal import replace_time\n",
    "from xmip.postprocessing import concat_experiments\n",
    "import xmip.drift_removal as xm_dr\n",
    "import xmip as xm\n",
    "import xesmf as xe\n",
    "import datetime\n",
    "from dateutil.relativedelta import relativedelta\n",
    "import utils\n",
    "import scipy.signal as signal\n",
    "import cf_xarray as cfxr\n",
    "from datetime import timedelta\n",
    "\n",
    "\n",
    "dask.config.set(**{'array.slicing.split_large_chunks': True})\n"
   ]
  },
  {
   "cell_type": "markdown",
   "metadata": {},
   "source": [
    "## Import data and calculate GF"
   ]
  },
  {
   "cell_type": "code",
   "execution_count": 2,
   "metadata": {},
   "outputs": [],
   "source": [
    "model_run_4x_dict = utils.model_run_4x_dict\n",
    "model_run_control_dict = utils.model_run_picontrol_dict\n",
    "#no NBP for GFDL"
   ]
  },
  {
   "cell_type": "code",
   "execution_count": 3,
   "metadata": {},
   "outputs": [],
   "source": [
    "fg_co2_4x = {}\n",
    "fg_co2_pictrl = {}\n",
    "nbp_4x = {}\n",
    "nbp_pictrl = {}\n",
    "co2_4x = {}\n",
    "co2_pictrl = {}\n",
    "areacello = {}\n",
    "areacella = {}"
   ]
  },
  {
   "cell_type": "code",
   "execution_count": 4,
   "metadata": {},
   "outputs": [
    {
     "name": "stdout",
     "output_type": "stream",
     "text": [
      "UKESM1_r1\n",
      "load 4x run\n",
      "fg\n",
      "nbp\n",
      "MIROC\n",
      "load 4x run\n",
      "fg\n",
      "nbp\n",
      "NORESM2\n",
      "load 4x run\n",
      "fg\n",
      "nbp\n",
      "ACCESS\n",
      "load 4x run\n",
      "fg\n",
      "nbp\n",
      "CANESM5_r1p2\n",
      "load 4x run\n",
      "fg\n",
      "nbp\n",
      "CANESM5_r1p1\n",
      "load 4x run\n",
      "fg\n",
      "nbp\n"
     ]
    }
   ],
   "source": [
    "for m in model_run_4x_dict.keys():\n",
    "    print(m)\n",
    "    print('load 4x run')\n",
    "    print('fg')\n",
    "    fg_co2_4x[m] = xr.open_mfdataset(f'cmip6_data/fgco2_Omon_{model_run_4x_dict[m]}', use_cftime=True) #kgC/m2/s\n",
    "    print('nbp')\n",
    "    if m == 'UKESM1_r1' or m == 'MIROC' or m == 'NORESM2' or m == 'ACCESS' or m == 'CANESM5_r1p2' or m == 'CANESM5_r1p1':\n",
    "        nbp_4x[m] = xr.open_mfdataset(f'cmip6_data/nbp_Lmon_{model_run_4x_dict[m]}', use_cftime=True) #kgC/m2/s\n",
    "    if m == 'UKESM1_r1':\n",
    "        co2_4x[m] = xr.open_mfdataset(f'cmip6_data/co2mass_Amon_{model_run_4x_dict[m]}', use_cftime=True) #kg\n",
    "    \n",
    "    "
   ]
  },
  {
   "cell_type": "code",
   "execution_count": 5,
   "metadata": {
    "tags": []
   },
   "outputs": [
    {
     "name": "stdout",
     "output_type": "stream",
     "text": [
      "UKESM1_r1\n",
      "load pi control run\n",
      "MIROC\n",
      "load pi control run\n",
      "NORESM2\n",
      "load pi control run\n",
      "ACCESS\n",
      "load pi control run\n",
      "GFDL\n",
      "load pi control run\n",
      "CANESM5_r1p2\n",
      "load pi control run\n",
      "CANESM5_r1p1\n",
      "load pi control run\n"
     ]
    }
   ],
   "source": [
    "for m in model_run_control_dict.keys():\n",
    "    print(m)\n",
    "    print('load pi control run')\n",
    "    fg_co2_pictrl[m] = xr.open_mfdataset(f'cmip6_data/fgco2_Omon_{model_run_control_dict[m]}', use_cftime=True, engine = 'netcdf4') #kg/m2/s \n",
    "    \n",
    "    nbp_pictrl[m] = xr.open_mfdataset(f'cmip6_data/nbp_Lmon_{model_run_control_dict[m]}',use_cftime=True, engine = 'netcdf4') #kgC/m2/s \n",
    "\n",
    "    if m == 'UKESM1_r1' or m == 'NORESM2' or m == 'GFDL':\n",
    "        co2_pictrl[m] = xr.open_mfdataset(f'cmip6_data/co2mass_Amon_{model_run_control_dict[m]}',use_cftime=True, engine = 'netcdf4') #kg\n",
    "    \n",
    "    areacello[m] = xr.open_mfdataset(f'cmip6_data/areacello_Ofx_{model_run_control_dict[m]}', use_cftime=True, engine = 'netcdf4')\n",
    "    areacella[m] = xr.open_mfdataset(f'cmip6_data/areacella_fx_{model_run_control_dict[m]}', use_cftime=True, engine = 'netcdf4')\n"
   ]
  },
  {
   "cell_type": "markdown",
   "metadata": {},
   "source": [
    "## Find 3 times the initial co2 concentration\n"
   ]
  },
  {
   "cell_type": "code",
   "execution_count": 6,
   "metadata": {},
   "outputs": [
    {
     "data": {
      "text/plain": [
       "1802825042577700.5"
      ]
     },
     "execution_count": 6,
     "metadata": {},
     "output_type": "execute_result"
    }
   ],
   "source": [
    "kgCO2_to_kgC = 1/3.67\n",
    "vmr_conversion = 1.5172413793 ##see attrs for NORESM2, co2 is in vmr, not converted properly\n",
    "t = 1 #years\n",
    "three_ci = co2_pictrl['NORESM2']['co2mass'].mean(dim = 'time').values*vmr_conversion*3/(t)\n",
    "three_ci*= kgCO2_to_kgC\n",
    "three_ci"
   ]
  },
  {
   "cell_type": "code",
   "execution_count": 7,
   "metadata": {},
   "outputs": [],
   "source": [
    "#convert kg to kg/year\n",
    "for m in ['UKESM1_r1']:\n",
    "    seconds_per_yr = 60*60*24*365\n",
    "    co2_4x[m]['G_atm'] = co2_4x[m]['co2mass'].diff('time')/(co2_4x[m]['time'].diff('time').astype('float64')/(1e9*seconds_per_yr)) #convert from ns to year via 1e9ns/s x 60s/min x 60min/hr x 24hr/day x 365day/yr\n",
    "    co2_4x[m]['G_atm'] *= kgCO2_to_kgC\n",
    "    co2_4x[m]['G_atm'].attrs = {'units':'kgC'}\n",
    "    \n",
    "for m in ['UKESM1_r1']:\n",
    "    seconds_per_yr = 60*60*24*365\n",
    "    co2_pictrl[m]['G_atm'] = co2_pictrl[m]['co2mass'].diff('time')/(co2_pictrl[m]['time'].diff('time').astype('float64')/(1e9*seconds_per_yr)) #convert from ns to year via 1e9ns/s x 60s/min x 60min/hr x 24hr/day x 365day/yr\n",
    "    co2_pictrl[m]['G_atm'] *= kgCO2_to_kgC\n",
    "    co2_pictrl[m]['G_atm'].attrs = {'units':'kgC'}"
   ]
  },
  {
   "cell_type": "code",
   "execution_count": 8,
   "metadata": {},
   "outputs": [],
   "source": [
    "## fix the times so that they line up according to the notes above\n",
    "m = 'NORESM2'\n",
    "nbp_pictrl[m]['time'] = nbp_pictrl[m]['time'] -timedelta(365*1599)\n",
    "fg_co2_pictrl[m]['time'] = fg_co2_pictrl[m]['time'] - timedelta(365*1599)\n",
    "\n",
    "\n",
    "m = 'UKESM1_r1'\n",
    "nbp_pictrl[m]['time'] = nbp_pictrl['UKESM1_r1']['time'] - timedelta(360*110)\n",
    "fg_co2_pictrl[m]['time'] = fg_co2_pictrl['UKESM1_r1']['time'] - timedelta(360*110)\n",
    "co2_pictrl[m]['time'] = co2_pictrl['UKESM1_r1']['time'] - timedelta(360*110)\n",
    "\n",
    "m = 'CANESM5_r1p2'\n",
    "nbp_pictrl[m]['time'] = nbp_pictrl['CANESM5_r1p2']['time']- timedelta(365*3700)\n",
    "fg_co2_pictrl[m]['time'] = fg_co2_pictrl['CANESM5_r1p2']['time']- timedelta(365*3700)\n",
    "\n",
    "m = 'CANESM5_r1p1'\n",
    "nbp_pictrl[m]['time'] = nbp_pictrl['CANESM5_r1p1']['time']- timedelta(365*3351)\n",
    "fg_co2_pictrl[m]['time'] = fg_co2_pictrl['CANESM5_r1p1']['time']- timedelta(365*3351)\n"
   ]
  },
  {
   "cell_type": "code",
   "execution_count": 9,
   "metadata": {},
   "outputs": [],
   "source": [
    "#define our output grid size\n",
    "\n",
    "ds_out = xr.Dataset(\n",
    "    {\n",
    "        \"lat\": ([\"lat\"], np.arange(-89.5, 90.5, 1.0)),\n",
    "        \"lon\": ([\"lon\"], np.arange(0, 360, 1)),\n",
    "        \"lat_b\": ([\"lat_b\"], np.arange(-90.,91.,1.0)),\n",
    "        \"lon_b\":([\"lon_b\"], np.arange(.5, 361.5, 1.0))\n",
    "    }\n",
    ")\n",
    "A = utils.find_area(ds_out, R = 6.3781e6)\n",
    "\n",
    "#replace GFDL areacello with this-- areacello doesn't match up\n",
    "\n",
    "areacello['GFDL'] = A"
   ]
  },
  {
   "cell_type": "code",
   "execution_count": 10,
   "metadata": {},
   "outputs": [],
   "source": [
    "fg_co2 = {}\n",
    "nbp = {}\n",
    "\n",
    "for m1 in model_run_4x_dict.keys():\n",
    "    m2 = m1\n",
    "    fg_co2[m1] = fg_co2_4x[m1] - fg_co2_pictrl[m2]\n",
    "    if m1 != 'GFDL':\n",
    "        nbp[m1] = nbp_4x[m1] - nbp_pictrl[m2]\n",
    "    \n",
    "    if m2 == 'GFDL':\n",
    "        fg_co2[m1]['fgco2'] = fg_co2[m1]['fgco2']*seconds_per_yr*areacello[m2]\n",
    "    else:\n",
    "        fg_co2[m1]['fgco2'] = fg_co2[m1]['fgco2']*seconds_per_yr*areacello[m2]['areacello']\n",
    "    if m1 != 'GFDL':\n",
    "        nbp[m1]['nbp'] = nbp[m1]['nbp']*seconds_per_yr*areacella[m2]['areacella']"
   ]
  },
  {
   "cell_type": "code",
   "execution_count": 11,
   "metadata": {},
   "outputs": [
    {
     "name": "stdout",
     "output_type": "stream",
     "text": [
      "UKESM1_r1 UKESM1_r1\n"
     ]
    }
   ],
   "source": [
    "co2_dif = {}\n",
    "for m1 in co2_4x.keys():\n",
    "    m2 = m1\n",
    "    print(m1, m2)\n",
    "    co2_dif[m1] = co2_4x[m1]['G_atm'] - co2_pictrl[m2]['G_atm'] #kg/yr"
   ]
  },
  {
   "cell_type": "code",
   "execution_count": 12,
   "metadata": {},
   "outputs": [],
   "source": [
    "#total sinks\n",
    "emis_sinks = {}\n",
    "for m in nbp.keys():\n",
    "    if 'lat' in list(fg_co2[m]['fgco2'].dims):\n",
    "        emis_sinks[m] = nbp[m]['nbp'].sum(dim = ['lat','lon']) + fg_co2[m]['fgco2'].sum(dim = ['lat','lon'])\n",
    "    elif 'i' in list(fg_co2[m]['fgco2'].dims):\n",
    "        emis_sinks[m] = nbp[m]['nbp'].sum(dim = ['lat','lon']) + fg_co2[m]['fgco2'].sum(dim = ['i','j'])\n",
    "    elif 'x' in list(fg_co2[m]['fgco2'].dims):\n",
    "        emis_sinks[m] = nbp[m]['nbp'].sum(dim = ['lat','lon']) + fg_co2[m]['fgco2'].sum(dim = ['x','y'])"
   ]
  },
  {
   "cell_type": "code",
   "execution_count": 13,
   "metadata": {},
   "outputs": [],
   "source": [
    "#fix the times to all be the same, weight by month and take the mean\n",
    "\n",
    "for m in nbp.keys():    \n",
    "    times = emis_sinks[m].time.get_index('time')\n",
    "    weights = times.shift(-1, 'MS') - times.shift(1, 'MS')\n",
    "    weights = xr.DataArray(weights, [('time', emis_sinks[m]['time'].values)]).astype('float')\n",
    "    emis_sinks[m] =  (emis_sinks[m] * weights).groupby('time.year').sum('time')/weights.groupby('time.year').sum('time')"
   ]
  },
  {
   "cell_type": "code",
   "execution_count": 14,
   "metadata": {},
   "outputs": [],
   "source": [
    "G_atm = {}\n",
    "for m in co2_dif.keys():    \n",
    "    times = co2_dif[m].time.get_index('time')\n",
    "    weights = times.shift(-1, 'MS') - times.shift(1, 'MS')\n",
    "    weights = xr.DataArray(weights, [('time', co2_dif[m]['time'].values)]).astype('float')\n",
    "    G_atm[m] =  (co2_dif[m] * weights).groupby('time.year').sum('time')/weights.groupby('time.year').sum('time')"
   ]
  },
  {
   "cell_type": "markdown",
   "metadata": {},
   "source": [
    "## Add in the pulse, which is not accounted for bc it is infinite \n",
    "We discretize it and make it as 3ci where ci is the initial pictrl concentration"
   ]
  },
  {
   "cell_type": "code",
   "execution_count": 20,
   "metadata": {},
   "outputs": [],
   "source": [
    "G_atm['UKESM1_r1'].loc[dict(year = 1850)] = three_ci"
   ]
  },
  {
   "cell_type": "code",
   "execution_count": 21,
   "metadata": {},
   "outputs": [
    {
     "data": {
      "text/plain": [
       "array(1.453596e+15, dtype=float32)"
      ]
     },
     "execution_count": 21,
     "metadata": {},
     "output_type": "execute_result"
    }
   ],
   "source": [
    "co2_pictrl['NORESM2']['co2mass'].mean(dim = 'time').values"
   ]
  },
  {
   "cell_type": "code",
   "execution_count": 22,
   "metadata": {},
   "outputs": [],
   "source": [
    "for m in emis_sinks.keys():\n",
    "    emis_sinks[m]['year'] = np.arange(0, len(emis_sinks[m]['year']))"
   ]
  },
  {
   "cell_type": "code",
   "execution_count": 23,
   "metadata": {},
   "outputs": [],
   "source": [
    "for m in G_atm.keys():\n",
    "    G_atm[m]['year'] = np.arange(0, len(G_atm[m]['year']))"
   ]
  },
  {
   "cell_type": "code",
   "execution_count": 24,
   "metadata": {},
   "outputs": [],
   "source": [
    "def diff_lists(list1, list2):\n",
    "    return list(set(list1).symmetric_difference(set(list2)))  # or return list(set(list1) ^ set(list2))\n",
    "\n",
    "emis_co2 = {}\n",
    "for m in G_atm.keys():\n",
    "        emis_co2[m] = G_atm[m] + emis_sinks[m]\n",
    "\n",
    "for m in diff_lists(emis_sinks.keys(), G_atm.keys()):\n",
    "        emis_co2[m] = G_atm['UKESM1_r1'] + emis_sinks[m] #use UKESM1_r1 co2 mass bc these runs don't have their own\n",
    "    "
   ]
  },
  {
   "cell_type": "code",
   "execution_count": 25,
   "metadata": {},
   "outputs": [],
   "source": [
    "emis_co2_GtC = {}\n",
    "kg_to_Gt = 1e-12\n",
    "\n",
    "for m in emis_co2.keys():\n",
    "    emis_co2_GtC[m] = emis_co2[m]*kg_to_Gt\n",
    "    "
   ]
  },
  {
   "cell_type": "code",
   "execution_count": 26,
   "metadata": {},
   "outputs": [],
   "source": [
    "emis_co2_GtC_ds = xr.concat([emis_co2_GtC[m] for m in emis_co2_GtC.keys()], pd.Index([m for m in emis_co2_GtC.keys()], name='model'), coords='minimal')"
   ]
  },
  {
   "cell_type": "markdown",
   "metadata": {},
   "source": [
    "## Save out"
   ]
  },
  {
   "cell_type": "code",
   "execution_count": 27,
   "metadata": {},
   "outputs": [],
   "source": [
    "emis_co2_GtC_ds.to_netcdf('Outputs/4x_emis_profile_full.nc4')\n"
   ]
  },
  {
   "cell_type": "code",
   "execution_count": null,
   "metadata": {},
   "outputs": [],
   "source": [
    "emis_co2_GtC_ds"
   ]
  },
  {
   "cell_type": "code",
   "execution_count": null,
   "metadata": {},
   "outputs": [],
   "source": []
  }
 ],
 "metadata": {
  "kernelspec": {
   "display_name": "Python (gchp)",
   "language": "python",
   "name": "gchp"
  },
  "language_info": {
   "codemirror_mode": {
    "name": "ipython",
    "version": 3
   },
   "file_extension": ".py",
   "mimetype": "text/x-python",
   "name": "python",
   "nbconvert_exporter": "python",
   "pygments_lexer": "ipython3",
   "version": "3.9.10"
  }
 },
 "nbformat": 4,
 "nbformat_minor": 4
}
