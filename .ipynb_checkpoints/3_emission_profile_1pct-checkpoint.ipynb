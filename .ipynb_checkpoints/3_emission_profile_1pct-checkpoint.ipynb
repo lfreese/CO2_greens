{
 "cells": [
  {
   "cell_type": "code",
   "execution_count": 231,
   "metadata": {},
   "outputs": [
    {
     "name": "stdout",
     "output_type": "stream",
     "text": [
      "The autoreload extension is already loaded. To reload it, use:\n",
      "  %reload_ext autoreload\n"
     ]
    },
    {
     "data": {
      "text/plain": [
       "<dask.config.set at 0x7f584163c9d0>"
      ]
     },
     "execution_count": 231,
     "metadata": {},
     "output_type": "execute_result"
    }
   ],
   "source": [
    "%matplotlib inline\n",
    "\n",
    "%matplotlib inline\n",
    "%load_ext autoreload\n",
    "%autoreload 2\n",
    "\n",
    "import xarray as xr\n",
    "import pandas as pd\n",
    "import matplotlib.pyplot as plt\n",
    "import numpy as np\n",
    "import cftime\n",
    "import dask\n",
    "import xarrayutils\n",
    "import cartopy.crs as ccrs\n",
    "from xmip.preprocessing import combined_preprocessing\n",
    "from xmip.preprocessing import replace_x_y_nominal_lat_lon\n",
    "from xmip.drift_removal import replace_time\n",
    "from xmip.postprocessing import concat_experiments\n",
    "import xmip.drift_removal as xm_dr\n",
    "import xmip as xm\n",
    "import xesmf as xe\n",
    "import datetime\n",
    "from dateutil.relativedelta import relativedelta\n",
    "import utils\n",
    "import scipy.signal as signal\n",
    "import cf_xarray as cfxr\n",
    "from datetime import timedelta\n",
    "\n",
    "\n",
    "dask.config.set(**{'array.slicing.split_large_chunks': True})\n"
   ]
  },
  {
   "cell_type": "markdown",
   "metadata": {},
   "source": [
    "### Notes:\n",
    "\n",
    "GFDL: 1pct and esm pi-control start from year 0001\n",
    "\n",
    "UKESM1: 1pct starts in 1850 and pi-control starts in 1960, move 1pct to start in 1960\n",
    "\n",
    "MIROC: both start from 1850\n",
    "\n",
    "NORESM2: 1pct from 0001 pi-control from 1600-- move 1pct to 1600\n",
    "\n",
    "ACCESS: 1pct and pi-control from 0101\n",
    "\n",
    "CANESM5_r1p1: 1pct 1850, pi-control 5201, move 1pct to 5201\n",
    "\n",
    "CANESM5_r1p2: 1pct 1850, pi-control 5550, move 1pct to 5550\n"
   ]
  },
  {
   "cell_type": "markdown",
   "metadata": {},
   "source": [
    "## Import data and calculate GF"
   ]
  },
  {
   "cell_type": "code",
   "execution_count": 232,
   "metadata": {},
   "outputs": [],
   "source": [
    "model_run_1pct_dict = utils.model_run_1pct_dict\n",
    "model_run_control_dict = utils.model_run_picontrol_dict\n"
   ]
  },
  {
   "cell_type": "code",
   "execution_count": 233,
   "metadata": {},
   "outputs": [],
   "source": [
    "fg_co2_1pct = {}\n",
    "fg_co2_pictrl = {}\n",
    "nbp_1pct = {}\n",
    "nbp_pictrl = {}\n",
    "co2_1pct = {}\n",
    "co2_pictrl = {}\n",
    "areacello = {}\n",
    "areacella = {}"
   ]
  },
  {
   "cell_type": "code",
   "execution_count": 234,
   "metadata": {},
   "outputs": [],
   "source": [
    "for m in model_run_1pct_dict.keys():\n",
    "    fg_co2_1pct[m] = xr.open_mfdataset(f'cmip6_data/fgco2_Omon_{model_run_1pct_dict[m]}', use_cftime=True) #kgC/m2/s\n",
    "\n",
    "    nbp_1pct[m] = xr.open_mfdataset(f'cmip6_data/nbp_Lmon_{model_run_1pct_dict[m]}', use_cftime=True) #kgC/m2/s\n",
    "    if m == 'UKESM1_r1' or m == 'UKESM1_r2' or m == 'UKESM1_r3' or m == 'UKESM1_r4' or m == 'NORESM2' or m == 'GFDL':\n",
    "        co2_1pct[m] = xr.open_mfdataset(f'cmip6_data/co2mass_Amon_{model_run_1pct_dict[m]}', use_cftime=True) #kg\n",
    "    \n",
    "    "
   ]
  },
  {
   "cell_type": "code",
   "execution_count": 235,
   "metadata": {
    "tags": []
   },
   "outputs": [],
   "source": [
    "for m in model_run_control_dict.keys():\n",
    "    fg_co2_pictrl[m] = xr.open_mfdataset(f'cmip6_data/fgco2_Omon_{model_run_control_dict[m]}', use_cftime=True, engine = 'netcdf4') #kg/m2/s \n",
    "    \n",
    "    nbp_pictrl[m] = xr.open_mfdataset(f'cmip6_data/nbp_Lmon_{model_run_control_dict[m]}',use_cftime=True, engine = 'netcdf4') #kgC/m2/s \n",
    "\n",
    "    if m == 'UKESM1_r1' or m == 'NORESM2' or m == 'GFDL':\n",
    "        co2_pictrl[m] = xr.open_mfdataset(f'cmip6_data/co2mass_Amon_{model_run_control_dict[m]}',use_cftime=True, engine = 'netcdf4') #kg\n",
    "    \n",
    "    areacello[m] = xr.open_mfdataset(f'cmip6_data/areacello_Ofx_{model_run_control_dict[m]}', use_cftime=True, engine = 'netcdf4')\n",
    "    areacella[m] = xr.open_mfdataset(f'cmip6_data/areacella_fx_{model_run_control_dict[m]}', use_cftime=True, engine = 'netcdf4')\n"
   ]
  },
  {
   "cell_type": "code",
   "execution_count": 236,
   "metadata": {},
   "outputs": [],
   "source": [
    "kgCO2_to_kgC = 1/3.67\n",
    "\n",
    "#convert kg to kg/year\n",
    "for m in ['UKESM1_r1', 'UKESM1_r2', 'UKESM1_r3', 'UKESM1_r4', 'NORESM2', 'GFDL']:\n",
    "    seconds_per_yr = 60*60*24*365\n",
    "    co2_1pct[m]['G_atm'] = co2_1pct[m]['co2mass'].diff('time')/(co2_1pct[m]['time'].diff('time').astype('float64')/(1e9*seconds_per_yr)) #convert from ns to year via 1e9ns/s x 60s/min x 60min/hr x 24hr/day x 365day/yr\n",
    "    co2_1pct[m]['G_atm'] *= kgCO2_to_kgC\n",
    "    co2_1pct[m]['G_atm'].attrs = {'units':'kgC'}\n",
    "    \n",
    "for m in [ 'NORESM2', 'GFDL', 'UKESM1_r1']:\n",
    "    seconds_per_yr = 60*60*24*365\n",
    "    co2_pictrl[m]['G_atm'] = co2_pictrl[m]['co2mass'].diff('time')/(co2_pictrl[m]['time'].diff('time').astype('float64')/(1e9*seconds_per_yr)) #convert from ns to year via 1e9ns/s x 60s/min x 60min/hr x 24hr/day x 365day/yr\n",
    "    co2_pictrl[m]['G_atm'] *= kgCO2_to_kgC\n",
    "    co2_pictrl[m]['G_atm'].attrs = {'units':'kgC'}"
   ]
  },
  {
   "cell_type": "code",
   "execution_count": 237,
   "metadata": {},
   "outputs": [
    {
     "name": "stderr",
     "output_type": "stream",
     "text": [
      "/home/emfreese/anaconda3/envs/gchp/lib/python3.9/site-packages/xarray/coding/times.py:351: FutureWarning: Index.ravel returning ndarray is deprecated; in a future version this will return a view on self.\n",
      "  sample = dates.ravel()[0]\n"
     ]
    }
   ],
   "source": [
    "## modify the time based on branching for realizations\n",
    "\n",
    "for m in ['CANESM5_r1p2', 'CANESM5_r2p2', 'CANESM5_r3p2', 'CANESM5_r1p1', 'CANESM5_r2p1', 'CANESM5_r3p1']:\n",
    "    for ds_dict in [nbp_1pct, fg_co2_1pct]:\n",
    "        yrs = (datetime.datetime.strptime(ds_dict[m].attrs['YMDH_branch_time_in_parent'],\"%Y:%m:%d:%H\").year  - \n",
    "                 datetime.datetime.strptime(ds_dict['CANESM5_r1p1'].attrs['YMDH_branch_time_in_parent'],\"%Y:%m:%d:%H\").year)\n",
    "\n",
    "        ds_dict[m]['time'] = ds_dict[m]['time'] + timedelta(365*yrs)\n",
    "\n",
    "for m in ['UKESM1_r1', 'UKESM1_r2', 'UKESM1_r3', 'UKESM1_r4']:\n",
    "    for ds_dict in [nbp_1pct, fg_co2_1pct, co2_1pct]:\n",
    "        date = xr.DataArray(ds_dict[m].attrs.get(\"branch_time_in_parent\"), \n",
    "                    attrs={\"units\": ds_dict[m].attrs.get(\"parent_time_units\"), \"calendar\": ds_dict[m].time.to_index().calendar})\n",
    "\n",
    "        branch_time_parent = xr.decode_cf(date.to_dataset(name=\"time\"), use_cftime=True).time\n",
    "        yr = branch_time_parent.data.tolist().year\n",
    "        yr_dif = yr - ds_dict[m]['time.year'][0].values\n",
    "\n",
    "        ds_dict[m]['time'] = ds_dict[m]['time'] + timedelta(days = float(360*yr_dif))\n"
   ]
  },
  {
   "cell_type": "code",
   "execution_count": 240,
   "metadata": {},
   "outputs": [],
   "source": [
    "## fix the times so that they line up according to the notes above\n",
    "m = 'NORESM2'\n",
    "nbp_pictrl[m]['time'] = nbp_pictrl[m]['time'] -timedelta(365*1599)\n",
    "fg_co2_pictrl[m]['time'] = fg_co2_pictrl[m]['time'] - timedelta(365*1599)\n",
    "co2_pictrl[m]['time'] = co2_pictrl[m]['time'] - timedelta(365*1599)\n",
    "co2_1pct[m] *=1.5172413793 #currently saved as the vmr (see the attributes, has not been properly converted)\n",
    "co2_pictrl[m] *=1.5172413793 #currently saved as the vmr (see the attributes, has not been properly converted)\n",
    "\n",
    "\n",
    "m = 'UKESM1_r1'\n",
    "nbp_pictrl[m]['time'] = nbp_pictrl['UKESM1_r1']['time'] - timedelta(360*110)\n",
    "fg_co2_pictrl[m]['time'] = fg_co2_pictrl['UKESM1_r1']['time'] - timedelta(360*110)\n",
    "co2_pictrl[m]['time'] = co2_pictrl['UKESM1_r1']['time'] - timedelta(360*110)\n",
    "\n",
    "m = 'CANESM5_r1p2'\n",
    "nbp_pictrl[m]['time'] = nbp_pictrl['CANESM5_r1p2']['time']- timedelta(365*3700)\n",
    "fg_co2_pictrl[m]['time'] = fg_co2_pictrl['CANESM5_r1p2']['time']- timedelta(365*3700)\n",
    "\n",
    "m = 'CANESM5_r1p1'\n",
    "nbp_pictrl[m]['time'] = nbp_pictrl['CANESM5_r1p1']['time']- timedelta(365*3351)\n",
    "fg_co2_pictrl[m]['time'] = fg_co2_pictrl['CANESM5_r1p1']['time']- timedelta(365*3351)\n"
   ]
  },
  {
   "cell_type": "code",
   "execution_count": 241,
   "metadata": {},
   "outputs": [],
   "source": [
    "#define our output grid size\n",
    "\n",
    "ds_out = xr.Dataset(\n",
    "    {\n",
    "        \"lat\": ([\"lat\"], np.arange(-89.5, 90.5, 1.0)),\n",
    "        \"lon\": ([\"lon\"], np.arange(0, 360, 1)),\n",
    "        \"lat_b\": ([\"lat_b\"], np.arange(-90.,91.,1.0)),\n",
    "        \"lon_b\":([\"lon_b\"], np.arange(.5, 361.5, 1.0))\n",
    "    }\n",
    ")\n",
    "A = utils.find_area(ds_out, R = 6.3781e6)\n",
    "\n",
    "#replace GFDL areacello with this-- areacello doesn't match up\n",
    "\n",
    "areacello['GFDL'] = A"
   ]
  },
  {
   "cell_type": "code",
   "execution_count": 242,
   "metadata": {
    "tags": []
   },
   "outputs": [
    {
     "name": "stdout",
     "output_type": "stream",
     "text": [
      "UKESM1_r1\n",
      "UKESM1_r1 UKESM1_r1\n",
      "UKESM1_r2\n",
      "UKESM1_r2 UKESM1_r1\n",
      "UKESM1_r3\n",
      "UKESM1_r3 UKESM1_r1\n",
      "UKESM1_r4\n",
      "UKESM1_r4 UKESM1_r1\n",
      "MIROC\n",
      "MIROC MIROC\n",
      "NORESM2\n",
      "NORESM2 NORESM2\n",
      "ACCESS\n",
      "ACCESS ACCESS\n",
      "GFDL\n",
      "GFDL GFDL\n",
      "CANESM5_r1p2\n",
      "CANESM5_r1p2 CANESM5_r1p2\n",
      "CANESM5_r2p2\n",
      "CANESM5_r2p2 CANESM5_r1p2\n",
      "CANESM5_r3p2\n",
      "CANESM5_r3p2 CANESM5_r1p2\n",
      "CANESM5_r1p1\n",
      "CANESM5_r1p1 CANESM5_r1p1\n",
      "CANESM5_r2p1\n",
      "CANESM5_r2p1 CANESM5_r1p1\n",
      "CANESM5_r3p1\n",
      "CANESM5_r3p1 CANESM5_r1p1\n"
     ]
    }
   ],
   "source": [
    "fg_co2 = {}\n",
    "nbp = {}\n",
    "\n",
    "for m1 in model_run_1pct_dict.keys():\n",
    "    if m1 == 'UKESM1_r1' or m1 == 'UKESM1_r2' or m1 == 'UKESM1_r3' or m1 == 'UKESM1_r4':\n",
    "        m2 = 'UKESM1_r1'\n",
    "    elif m1 == 'CANESM5_r1p1' or m1 == 'CANESM5_r2p1' or m1 == 'CANESM5_r3p1':\n",
    "         m2 = 'CANESM5_r1p1'\n",
    "    elif m1 == 'CANESM5_r1p2' or m1 == 'CANESM5_r2p2' or m1 == 'CANESM5_r3p2':\n",
    "         m2 = 'CANESM5_r1p2'\n",
    "    else:\n",
    "        m2 = m1\n",
    "    fg_co2[m1] = fg_co2_1pct[m1] - fg_co2_pictrl[m2]\n",
    "    nbp[m1] = nbp_1pct[m1] - nbp_pictrl[m2]\n",
    "    \n",
    "    if m2 == 'GFDL':\n",
    "        fg_co2[m1]['fgco2'] = fg_co2[m1]['fgco2']*seconds_per_yr*areacello[m2]\n",
    "    else:\n",
    "        fg_co2[m1]['fgco2'] = fg_co2[m1]['fgco2']*seconds_per_yr*areacello[m2]['areacello']\n",
    "    nbp[m1]['nbp'] = nbp[m1]['nbp']*seconds_per_yr*areacella[m2]['areacella']"
   ]
  },
  {
   "cell_type": "code",
   "execution_count": 243,
   "metadata": {},
   "outputs": [],
   "source": [
    "co2_dif = {}\n",
    "for m1 in co2_1pct.keys():\n",
    "    if m1 == 'UKESM1_r1' or m1 == 'UKESM1_r2' or m1 == 'UKESM1_r3' or m1 == 'UKESM1_r4':\n",
    "        m2 = 'UKESM1_r1'\n",
    "    else:\n",
    "        m2 = m1\n",
    "    co2_dif[m1] = co2_1pct[m1]['G_atm'] - co2_pictrl[m2]['G_atm'] #kg/yr"
   ]
  },
  {
   "cell_type": "code",
   "execution_count": 244,
   "metadata": {},
   "outputs": [],
   "source": [
    "#total sinks\n",
    "emis_sinks = {}\n",
    "for m in nbp.keys():\n",
    "    if 'lat' in list(fg_co2[m]['fgco2'].dims):\n",
    "        emis_sinks[m] = nbp[m]['nbp'].sum(dim = ['lat','lon']) + fg_co2[m]['fgco2'].sum(dim = ['lat','lon'])\n",
    "    elif 'i' in list(fg_co2[m]['fgco2'].dims):\n",
    "        emis_sinks[m] = nbp[m]['nbp'].sum(dim = ['lat','lon']) + fg_co2[m]['fgco2'].sum(dim = ['i','j'])\n",
    "    elif 'x' in list(fg_co2[m]['fgco2'].dims):\n",
    "        emis_sinks[m] = nbp[m]['nbp'].sum(dim = ['lat','lon']) + fg_co2[m]['fgco2'].sum(dim = ['x','y'])"
   ]
  },
  {
   "cell_type": "code",
   "execution_count": 245,
   "metadata": {},
   "outputs": [],
   "source": [
    "#fix the times to all be the same, weight by month and take the mean\n",
    "\n",
    "for m in nbp.keys():    \n",
    "    times = emis_sinks[m].time.get_index('time')\n",
    "    weights = times.shift(-1, 'MS') - times.shift(1, 'MS')\n",
    "    weights = xr.DataArray(weights, [('time', emis_sinks[m]['time'].values)]).astype('float')\n",
    "    emis_sinks[m] =  (emis_sinks[m] * weights).groupby('time.year').sum('time')/weights.groupby('time.year').sum('time')"
   ]
  },
  {
   "cell_type": "code",
   "execution_count": 246,
   "metadata": {},
   "outputs": [],
   "source": [
    "G_atm = {}\n",
    "for m in co2_dif.keys():    \n",
    "    times = co2_dif[m].time.get_index('time')\n",
    "    weights = times.shift(-1, 'MS') - times.shift(1, 'MS')\n",
    "    weights = xr.DataArray(weights, [('time', co2_dif[m]['time'].values)]).astype('float')\n",
    "    G_atm[m] =  (co2_dif[m] * weights).groupby('time.year').sum('time')/weights.groupby('time.year').sum('time')"
   ]
  },
  {
   "cell_type": "code",
   "execution_count": 247,
   "metadata": {},
   "outputs": [],
   "source": [
    "for m in emis_sinks.keys():\n",
    "    emis_sinks[m]['year'] = np.arange(0, len(emis_sinks[m]['year']))"
   ]
  },
  {
   "cell_type": "code",
   "execution_count": 248,
   "metadata": {},
   "outputs": [],
   "source": [
    "for m in G_atm.keys():\n",
    "    G_atm[m]['year'] = np.arange(0, len(G_atm[m]['year']))"
   ]
  },
  {
   "cell_type": "code",
   "execution_count": 249,
   "metadata": {},
   "outputs": [],
   "source": [
    "def diff_lists(list1, list2):\n",
    "    return list(set(list1).symmetric_difference(set(list2)))  # or return list(set(list1) ^ set(list2))\n",
    "\n",
    "emis_co2 = {}\n",
    "for m in G_atm.keys():\n",
    "        emis_co2[m] = G_atm[m] + emis_sinks[m]\n",
    "\n",
    "for m in diff_lists(emis_sinks.keys(), G_atm.keys()):\n",
    "        emis_co2[m] = G_atm['UKESM1_r1'] + emis_sinks[m] #use UKESM1_r1 co2 mass bc these runs don't have their own\n",
    "    "
   ]
  },
  {
   "cell_type": "code",
   "execution_count": 250,
   "metadata": {},
   "outputs": [],
   "source": [
    "emis_co2_GtC = {}\n",
    "kg_to_Gt = 1e-12\n",
    "\n",
    "for m in emis_co2.keys():\n",
    "    emis_co2_GtC[m] = emis_co2[m]*kg_to_Gt\n",
    "    "
   ]
  },
  {
   "cell_type": "code",
   "execution_count": 251,
   "metadata": {
    "tags": []
   },
   "outputs": [],
   "source": [
    "emis_co2_GtC_ds = xr.concat([emis_co2_GtC[m] for m in emis_co2_GtC.keys()], pd.Index([m for m in emis_co2_GtC.keys()], name='model'), coords='minimal')"
   ]
  },
  {
   "cell_type": "markdown",
   "metadata": {},
   "source": [
    "# Save out CO2 emissions"
   ]
  },
  {
   "cell_type": "code",
   "execution_count": null,
   "metadata": {},
   "outputs": [],
   "source": [
    "emis_co2_GtC_ds.to_netcdf('1pct_emis_profile_full.nc4')\n"
   ]
  },
  {
   "cell_type": "markdown",
   "metadata": {},
   "source": [
    "## Plots"
   ]
  },
  {
   "cell_type": "code",
   "execution_count": null,
   "metadata": {},
   "outputs": [],
   "source": [
    "for m in fg_co2.keys():\n",
    "    fig, ax = plt.subplots()\n",
    "    plt.plot(fg_co2[m]['fgco2'].sum(dim = ['j','i']))\n",
    "    plt.ylabel('annual mean total ocean sink, kg/yr')\n",
    "    plt.title(m)"
   ]
  },
  {
   "cell_type": "code",
   "execution_count": null,
   "metadata": {},
   "outputs": [],
   "source": [
    "for m in nbp.keys():\n",
    "    fig, ax = plt.subplots()\n",
    "    plt.plot(nbp[m]['nbp'].sum(dim = ['lat','lon']))\n",
    "    plt.ylabel('annual mean total land sink, kg/yr')"
   ]
  },
  {
   "cell_type": "code",
   "execution_count": null,
   "metadata": {},
   "outputs": [],
   "source": [
    "for m in emis_sinks.keys():\n",
    "    fig, ax = plt.subplots()\n",
    "    plt.plot(emis_sinks[m])\n",
    "    plt.ylabel('total kg/yr lost to ocean and land')"
   ]
  },
  {
   "cell_type": "code",
   "execution_count": null,
   "metadata": {},
   "outputs": [],
   "source": [
    "fig, ax = plt.subplots()\n",
    "for m in G_atm.keys():\n",
    "    plt.plot(G_atm[m], label = m)\n",
    "    plt.ylabel('mass in atmosphere')\n",
    "    plt.legend()"
   ]
  },
  {
   "cell_type": "code",
   "execution_count": 252,
   "metadata": {},
   "outputs": [
    {
     "data": {
      "image/png": "[encoded data removed]",
      "text/plain": [
       "<Figure size 432x288 with 1 Axes>"
      ]
     },
     "metadata": {
      "needs_background": "light"
     },
     "output_type": "display_data"
    }
   ],
   "source": [
    "for m in emis_co2_GtC_ds.model.values:\n",
    "    plt.plot(emis_co2_GtC_ds.sel(model = m), label = m)\n",
    "    plt.legend()"
   ]
  },
  {
   "cell_type": "code",
   "execution_count": null,
   "metadata": {},
   "outputs": [],
   "source": []
  }
 ],
 "metadata": {
  "kernelspec": {
   "display_name": "Python (gchp)",
   "language": "python",
   "name": "gchp"
  },
  "language_info": {
   "codemirror_mode": {
    "name": "ipython",
    "version": 3
   },
   "file_extension": ".py",
   "mimetype": "text/x-python",
   "name": "python",
   "nbconvert_exporter": "python",
   "pygments_lexer": "ipython3",
   "version": "3.9.10"
  }
 },
 "nbformat": 4,
 "nbformat_minor": 4
}
